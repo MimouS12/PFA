{
 "cells": [
  {
   "cell_type": "markdown",
   "metadata": {},
   "source": [
    "### Importing Required Libraries"
   ]
  },
  {
   "cell_type": "code",
   "execution_count": 1,
   "metadata": {},
   "outputs": [
    {
     "name": "stderr",
     "output_type": "stream",
     "text": [
      "Using TensorFlow backend.\n",
      "C:\\Users\\marye\\anaconda3\\lib\\site-packages\\tensorflow\\python\\framework\\dtypes.py:516: FutureWarning: Passing (type, 1) or '1type' as a synonym of type is deprecated; in a future version of numpy, it will be understood as (type, (1,)) / '(1,)type'.\n",
      "  _np_qint8 = np.dtype([(\"qint8\", np.int8, 1)])\n",
      "C:\\Users\\marye\\anaconda3\\lib\\site-packages\\tensorflow\\python\\framework\\dtypes.py:517: FutureWarning: Passing (type, 1) or '1type' as a synonym of type is deprecated; in a future version of numpy, it will be understood as (type, (1,)) / '(1,)type'.\n",
      "  _np_quint8 = np.dtype([(\"quint8\", np.uint8, 1)])\n",
      "C:\\Users\\marye\\anaconda3\\lib\\site-packages\\tensorflow\\python\\framework\\dtypes.py:518: FutureWarning: Passing (type, 1) or '1type' as a synonym of type is deprecated; in a future version of numpy, it will be understood as (type, (1,)) / '(1,)type'.\n",
      "  _np_qint16 = np.dtype([(\"qint16\", np.int16, 1)])\n",
      "C:\\Users\\marye\\anaconda3\\lib\\site-packages\\tensorflow\\python\\framework\\dtypes.py:519: FutureWarning: Passing (type, 1) or '1type' as a synonym of type is deprecated; in a future version of numpy, it will be understood as (type, (1,)) / '(1,)type'.\n",
      "  _np_quint16 = np.dtype([(\"quint16\", np.uint16, 1)])\n",
      "C:\\Users\\marye\\anaconda3\\lib\\site-packages\\tensorflow\\python\\framework\\dtypes.py:520: FutureWarning: Passing (type, 1) or '1type' as a synonym of type is deprecated; in a future version of numpy, it will be understood as (type, (1,)) / '(1,)type'.\n",
      "  _np_qint32 = np.dtype([(\"qint32\", np.int32, 1)])\n",
      "C:\\Users\\marye\\anaconda3\\lib\\site-packages\\tensorflow\\python\\framework\\dtypes.py:525: FutureWarning: Passing (type, 1) or '1type' as a synonym of type is deprecated; in a future version of numpy, it will be understood as (type, (1,)) / '(1,)type'.\n",
      "  np_resource = np.dtype([(\"resource\", np.ubyte, 1)])\n",
      "C:\\Users\\marye\\anaconda3\\lib\\site-packages\\tensorboard\\compat\\tensorflow_stub\\dtypes.py:541: FutureWarning: Passing (type, 1) or '1type' as a synonym of type is deprecated; in a future version of numpy, it will be understood as (type, (1,)) / '(1,)type'.\n",
      "  _np_qint8 = np.dtype([(\"qint8\", np.int8, 1)])\n",
      "C:\\Users\\marye\\anaconda3\\lib\\site-packages\\tensorboard\\compat\\tensorflow_stub\\dtypes.py:542: FutureWarning: Passing (type, 1) or '1type' as a synonym of type is deprecated; in a future version of numpy, it will be understood as (type, (1,)) / '(1,)type'.\n",
      "  _np_quint8 = np.dtype([(\"quint8\", np.uint8, 1)])\n",
      "C:\\Users\\marye\\anaconda3\\lib\\site-packages\\tensorboard\\compat\\tensorflow_stub\\dtypes.py:543: FutureWarning: Passing (type, 1) or '1type' as a synonym of type is deprecated; in a future version of numpy, it will be understood as (type, (1,)) / '(1,)type'.\n",
      "  _np_qint16 = np.dtype([(\"qint16\", np.int16, 1)])\n",
      "C:\\Users\\marye\\anaconda3\\lib\\site-packages\\tensorboard\\compat\\tensorflow_stub\\dtypes.py:544: FutureWarning: Passing (type, 1) or '1type' as a synonym of type is deprecated; in a future version of numpy, it will be understood as (type, (1,)) / '(1,)type'.\n",
      "  _np_quint16 = np.dtype([(\"quint16\", np.uint16, 1)])\n",
      "C:\\Users\\marye\\anaconda3\\lib\\site-packages\\tensorboard\\compat\\tensorflow_stub\\dtypes.py:545: FutureWarning: Passing (type, 1) or '1type' as a synonym of type is deprecated; in a future version of numpy, it will be understood as (type, (1,)) / '(1,)type'.\n",
      "  _np_qint32 = np.dtype([(\"qint32\", np.int32, 1)])\n",
      "C:\\Users\\marye\\anaconda3\\lib\\site-packages\\tensorboard\\compat\\tensorflow_stub\\dtypes.py:550: FutureWarning: Passing (type, 1) or '1type' as a synonym of type is deprecated; in a future version of numpy, it will be understood as (type, (1,)) / '(1,)type'.\n",
      "  np_resource = np.dtype([(\"resource\", np.ubyte, 1)])\n"
     ]
    }
   ],
   "source": [
    "import pandas as pd\n",
    "import seaborn as sns\n",
    "import numpy as np\n",
    "import re\n",
    "import nltk\n",
    "import keras\n",
    "from nltk.stem import PorterStemmer\n",
    "from nltk.stem import WordNetLemmatizer \n",
    "from nltk.corpus import stopwords\n",
    "import matplotlib.pyplot as plt\n",
    "from keras.preprocessing.text import Tokenizer, text_to_word_sequence\n",
    "from keras.preprocessing.text import one_hot\n",
    "from keras.preprocessing.sequence import pad_sequences\n",
    "from keras.layers.embeddings import Embedding\n",
    "from sklearn.model_selection import train_test_split\n",
    "from keras.preprocessing.text import Tokenizer\n",
    "from nltk.tokenize import TweetTokenizer\n",
    "import string\n",
    "from numpy import array\n",
    "from numpy import asarray\n",
    "from numpy import zeros\n",
    "from nltk.tokenize import RegexpTokenizer\n",
    "from nltk.corpus import stopwords\n",
    "from keras.layers.convolutional import Conv1D \n",
    "from keras.layers import GlobalMaxPooling1D\n",
    "from keras.models import Sequential\n",
    "from keras.layers.core import Activation, Dropout, Dense\n",
    "from keras.layers import Flatten\n",
    "from keras.layers.recurrent import LSTM\n",
    "from keras.layers import Bidirectional\n",
    "from keras.optimizers import Adam, Nadam\n",
    "from keras.activations import softmax\n",
    "from keras.losses import categorical_crossentropy, logcosh\n",
    "from keras.activations import relu, elu\n",
    "from talos.model.early_stopper import early_stopper\n",
    "from keras.callbacks import EarlyStopping, ModelCheckpoint\n",
    "import matplotlib.pyplot as plt\n",
    "\n",
    "from keras.layers.recurrent import LSTM\n",
    "from keras import models\n",
    "from keras.layers import Embedding\n",
    "from keras import layers"
   ]
  },
  {
   "cell_type": "markdown",
   "metadata": {},
   "source": [
    "### Importing and Analyzing the Dataset "
   ]
  },
  {
   "cell_type": "markdown",
   "metadata": {},
   "source": [
    "__6 Dataset files :__\n",
    "+ conjuctivitis.csv\n",
    "+ conjuctivitis2.csv\n",
    "+ gastroenteritis.csv\n",
    "+ influenza.csv\n",
    "+ norovirus.csv\n",
    "+ coronavirus_reddit_posts.csv\n",
    "\n"
   ]
  },
  {
   "cell_type": "code",
   "execution_count": 2,
   "metadata": {
    "scrolled": false
   },
   "outputs": [],
   "source": [
    "conjuctivitis = pd.read_csv(\"D:\\dataPFA\\Data\\conjuctivitis.csv\", usecols = [\"text\"])\n",
    "conjuctivitis2 = pd.read_csv(\"D:\\dataPFA\\Data\\conjuctivitis2.csv\", encoding='latin1', usecols = [\"text\"])\n",
    "gastroenteritis =pd.read_csv(\"D:\\dataPFA\\Data\\gastroenteritis.csv\", usecols = [\"text\"])\n",
    "influenza = pd.read_csv(\"D:\\dataPFA\\Data\\influenza.csv\", usecols = [\"text\"])\n",
    "norovirus = pd.read_csv(r\"D:\\dataPFA\\Data\\norovirus.csv\", usecols = [\"text\"])\n",
    "covid = pd.read_csv(\"D:\\dataPFA\\Data\\coronavirus_reddit_posts.csv\", usecols = [\"title\"])"
   ]
  },
  {
   "cell_type": "code",
   "execution_count": 3,
   "metadata": {},
   "outputs": [],
   "source": [
    "#renaming the column title in covid file to text as in the other files\n",
    "covid.columns =['text']"
   ]
  },
  {
   "cell_type": "code",
   "execution_count": 4,
   "metadata": {},
   "outputs": [
    {
     "data": {
      "text/plain": [
       "False"
      ]
     },
     "execution_count": 4,
     "metadata": {},
     "output_type": "execute_result"
    }
   ],
   "source": [
    "#to check if there is null values \n",
    "conjuctivitis.isnull().values.any()"
   ]
  },
  {
   "cell_type": "code",
   "execution_count": 5,
   "metadata": {},
   "outputs": [
    {
     "data": {
      "text/plain": [
       "(656, 1)"
      ]
     },
     "execution_count": 5,
     "metadata": {},
     "output_type": "execute_result"
    }
   ],
   "source": [
    "# display the number of rows and columns as a tuple\n",
    "conjuctivitis.shape"
   ]
  },
  {
   "cell_type": "code",
   "execution_count": 6,
   "metadata": {},
   "outputs": [
    {
     "data": {
      "text/plain": [
       "False"
      ]
     },
     "execution_count": 6,
     "metadata": {},
     "output_type": "execute_result"
    }
   ],
   "source": [
    "conjuctivitis2.isnull().values.any()\n"
   ]
  },
  {
   "cell_type": "code",
   "execution_count": 7,
   "metadata": {},
   "outputs": [
    {
     "data": {
      "text/plain": [
       "(720, 1)"
      ]
     },
     "execution_count": 7,
     "metadata": {},
     "output_type": "execute_result"
    }
   ],
   "source": [
    "conjuctivitis2.shape"
   ]
  },
  {
   "cell_type": "code",
   "execution_count": 8,
   "metadata": {},
   "outputs": [
    {
     "data": {
      "text/plain": [
       "False"
      ]
     },
     "execution_count": 8,
     "metadata": {},
     "output_type": "execute_result"
    }
   ],
   "source": [
    "gastroenteritis.isnull().values.any()\n"
   ]
  },
  {
   "cell_type": "code",
   "execution_count": 9,
   "metadata": {},
   "outputs": [
    {
     "data": {
      "text/plain": [
       "(645, 1)"
      ]
     },
     "execution_count": 9,
     "metadata": {},
     "output_type": "execute_result"
    }
   ],
   "source": [
    "gastroenteritis.shape\n"
   ]
  },
  {
   "cell_type": "code",
   "execution_count": 10,
   "metadata": {},
   "outputs": [
    {
     "data": {
      "text/plain": [
       "False"
      ]
     },
     "execution_count": 10,
     "metadata": {},
     "output_type": "execute_result"
    }
   ],
   "source": [
    "influenza.isnull().values.any()\n"
   ]
  },
  {
   "cell_type": "code",
   "execution_count": 11,
   "metadata": {},
   "outputs": [
    {
     "data": {
      "text/plain": [
       "(13004, 1)"
      ]
     },
     "execution_count": 11,
     "metadata": {},
     "output_type": "execute_result"
    }
   ],
   "source": [
    "influenza.shape"
   ]
  },
  {
   "cell_type": "code",
   "execution_count": 12,
   "metadata": {},
   "outputs": [
    {
     "data": {
      "text/plain": [
       "False"
      ]
     },
     "execution_count": 12,
     "metadata": {},
     "output_type": "execute_result"
    }
   ],
   "source": [
    "norovirus.isnull().values.any()"
   ]
  },
  {
   "cell_type": "code",
   "execution_count": 13,
   "metadata": {},
   "outputs": [
    {
     "data": {
      "text/plain": [
       "(1287, 1)"
      ]
     },
     "execution_count": 13,
     "metadata": {},
     "output_type": "execute_result"
    }
   ],
   "source": [
    "norovirus.shape"
   ]
  },
  {
   "cell_type": "code",
   "execution_count": 14,
   "metadata": {},
   "outputs": [
    {
     "data": {
      "text/plain": [
       "False"
      ]
     },
     "execution_count": 14,
     "metadata": {},
     "output_type": "execute_result"
    }
   ],
   "source": [
    "covid.isnull().values.any()"
   ]
  },
  {
   "cell_type": "code",
   "execution_count": 15,
   "metadata": {},
   "outputs": [
    {
     "data": {
      "text/plain": [
       "(9369, 1)"
      ]
     },
     "execution_count": 15,
     "metadata": {},
     "output_type": "execute_result"
    }
   ],
   "source": [
    "covid.shape"
   ]
  },
  {
   "cell_type": "code",
   "execution_count": 16,
   "metadata": {},
   "outputs": [
    {
     "data": {
      "text/html": [
       "<div>\n",
       "<style scoped>\n",
       "    .dataframe tbody tr th:only-of-type {\n",
       "        vertical-align: middle;\n",
       "    }\n",
       "\n",
       "    .dataframe tbody tr th {\n",
       "        vertical-align: top;\n",
       "    }\n",
       "\n",
       "    .dataframe thead th {\n",
       "        text-align: right;\n",
       "    }\n",
       "</style>\n",
       "<table border=\"1\" class=\"dataframe\">\n",
       "  <thead>\n",
       "    <tr style=\"text-align: right;\">\n",
       "      <th></th>\n",
       "      <th>text</th>\n",
       "    </tr>\n",
       "  </thead>\n",
       "  <tbody>\n",
       "    <tr>\n",
       "      <th>0</th>\n",
       "      <td>RT @UnicornDoc: When you have a stye in one ey...</td>\n",
       "    </tr>\n",
       "    <tr>\n",
       "      <th>1</th>\n",
       "      <td>When you have a stye in one eye and conjunctiv...</td>\n",
       "    </tr>\n",
       "    <tr>\n",
       "      <th>2</th>\n",
       "      <td>@nimmajji Get conjunctivitis from somewhere.. ...</td>\n",
       "    </tr>\n",
       "    <tr>\n",
       "      <th>3</th>\n",
       "      <td>RT @master_usmle: Streptococcus pneumoniae: di...</td>\n",
       "    </tr>\n",
       "    <tr>\n",
       "      <th>4</th>\n",
       "      <td>Actually so grateful for these eye drops the o...</td>\n",
       "    </tr>\n",
       "  </tbody>\n",
       "</table>\n",
       "</div>"
      ],
      "text/plain": [
       "                                                text\n",
       "0  RT @UnicornDoc: When you have a stye in one ey...\n",
       "1  When you have a stye in one eye and conjunctiv...\n",
       "2  @nimmajji Get conjunctivitis from somewhere.. ...\n",
       "3  RT @master_usmle: Streptococcus pneumoniae: di...\n",
       "4  Actually so grateful for these eye drops the o..."
      ]
     },
     "execution_count": 16,
     "metadata": {},
     "output_type": "execute_result"
    }
   ],
   "source": [
    "conjuctivitis.head()"
   ]
  },
  {
   "cell_type": "code",
   "execution_count": 17,
   "metadata": {},
   "outputs": [],
   "source": [
    "conjuctivitis.insert(1, \"label\", \"conjuctivitis\") "
   ]
  },
  {
   "cell_type": "code",
   "execution_count": 18,
   "metadata": {},
   "outputs": [
    {
     "data": {
      "text/html": [
       "<div>\n",
       "<style scoped>\n",
       "    .dataframe tbody tr th:only-of-type {\n",
       "        vertical-align: middle;\n",
       "    }\n",
       "\n",
       "    .dataframe tbody tr th {\n",
       "        vertical-align: top;\n",
       "    }\n",
       "\n",
       "    .dataframe thead th {\n",
       "        text-align: right;\n",
       "    }\n",
       "</style>\n",
       "<table border=\"1\" class=\"dataframe\">\n",
       "  <thead>\n",
       "    <tr style=\"text-align: right;\">\n",
       "      <th></th>\n",
       "      <th>text</th>\n",
       "      <th>label</th>\n",
       "    </tr>\n",
       "  </thead>\n",
       "  <tbody>\n",
       "    <tr>\n",
       "      <th>0</th>\n",
       "      <td>RT @UnicornDoc: When you have a stye in one ey...</td>\n",
       "      <td>conjuctivitis</td>\n",
       "    </tr>\n",
       "    <tr>\n",
       "      <th>1</th>\n",
       "      <td>When you have a stye in one eye and conjunctiv...</td>\n",
       "      <td>conjuctivitis</td>\n",
       "    </tr>\n",
       "    <tr>\n",
       "      <th>2</th>\n",
       "      <td>@nimmajji Get conjunctivitis from somewhere.. ...</td>\n",
       "      <td>conjuctivitis</td>\n",
       "    </tr>\n",
       "    <tr>\n",
       "      <th>3</th>\n",
       "      <td>RT @master_usmle: Streptococcus pneumoniae: di...</td>\n",
       "      <td>conjuctivitis</td>\n",
       "    </tr>\n",
       "    <tr>\n",
       "      <th>4</th>\n",
       "      <td>Actually so grateful for these eye drops the o...</td>\n",
       "      <td>conjuctivitis</td>\n",
       "    </tr>\n",
       "  </tbody>\n",
       "</table>\n",
       "</div>"
      ],
      "text/plain": [
       "                                                text          label\n",
       "0  RT @UnicornDoc: When you have a stye in one ey...  conjuctivitis\n",
       "1  When you have a stye in one eye and conjunctiv...  conjuctivitis\n",
       "2  @nimmajji Get conjunctivitis from somewhere.. ...  conjuctivitis\n",
       "3  RT @master_usmle: Streptococcus pneumoniae: di...  conjuctivitis\n",
       "4  Actually so grateful for these eye drops the o...  conjuctivitis"
      ]
     },
     "execution_count": 18,
     "metadata": {},
     "output_type": "execute_result"
    }
   ],
   "source": [
    "conjuctivitis.head()"
   ]
  },
  {
   "cell_type": "code",
   "execution_count": 19,
   "metadata": {},
   "outputs": [
    {
     "data": {
      "text/html": [
       "<div>\n",
       "<style scoped>\n",
       "    .dataframe tbody tr th:only-of-type {\n",
       "        vertical-align: middle;\n",
       "    }\n",
       "\n",
       "    .dataframe tbody tr th {\n",
       "        vertical-align: top;\n",
       "    }\n",
       "\n",
       "    .dataframe thead th {\n",
       "        text-align: right;\n",
       "    }\n",
       "</style>\n",
       "<table border=\"1\" class=\"dataframe\">\n",
       "  <thead>\n",
       "    <tr style=\"text-align: right;\">\n",
       "      <th></th>\n",
       "      <th>text</th>\n",
       "    </tr>\n",
       "  </thead>\n",
       "  <tbody>\n",
       "    <tr>\n",
       "      <th>0</th>\n",
       "      <td>Leicester eye title boost https://t.co/ldhz61a...</td>\n",
       "    </tr>\n",
       "    <tr>\n",
       "      <th>1</th>\n",
       "      <td>New color! Baby pink!</td>\n",
       "    </tr>\n",
       "    <tr>\n",
       "      <th>2</th>\n",
       "      <td>handmade Lanyards for ID badges and Eye Glasse...</td>\n",
       "    </tr>\n",
       "    <tr>\n",
       "      <th>3</th>\n",
       "      <td>@marissatunis wake up with the pink eye ????,</td>\n",
       "    </tr>\n",
       "    <tr>\n",
       "      <th>4</th>\n",
       "      <td>Sperry Top Sider Womens Bahama 2 Eye Boat Shoe...</td>\n",
       "    </tr>\n",
       "  </tbody>\n",
       "</table>\n",
       "</div>"
      ],
      "text/plain": [
       "                                                text\n",
       "0  Leicester eye title boost https://t.co/ldhz61a...\n",
       "1                             New color! Baby pink! \n",
       "2  handmade Lanyards for ID badges and Eye Glasse...\n",
       "3      @marissatunis wake up with the pink eye ????,\n",
       "4  Sperry Top Sider Womens Bahama 2 Eye Boat Shoe..."
      ]
     },
     "execution_count": 19,
     "metadata": {},
     "output_type": "execute_result"
    }
   ],
   "source": [
    "conjuctivitis2.head()"
   ]
  },
  {
   "cell_type": "code",
   "execution_count": 20,
   "metadata": {},
   "outputs": [
    {
     "data": {
      "text/html": [
       "<div>\n",
       "<style scoped>\n",
       "    .dataframe tbody tr th:only-of-type {\n",
       "        vertical-align: middle;\n",
       "    }\n",
       "\n",
       "    .dataframe tbody tr th {\n",
       "        vertical-align: top;\n",
       "    }\n",
       "\n",
       "    .dataframe thead th {\n",
       "        text-align: right;\n",
       "    }\n",
       "</style>\n",
       "<table border=\"1\" class=\"dataframe\">\n",
       "  <thead>\n",
       "    <tr style=\"text-align: right;\">\n",
       "      <th></th>\n",
       "      <th>text</th>\n",
       "      <th>label</th>\n",
       "    </tr>\n",
       "  </thead>\n",
       "  <tbody>\n",
       "    <tr>\n",
       "      <th>0</th>\n",
       "      <td>Leicester eye title boost https://t.co/ldhz61a...</td>\n",
       "      <td>conjuctivitis2</td>\n",
       "    </tr>\n",
       "    <tr>\n",
       "      <th>1</th>\n",
       "      <td>New color! Baby pink!</td>\n",
       "      <td>conjuctivitis2</td>\n",
       "    </tr>\n",
       "    <tr>\n",
       "      <th>2</th>\n",
       "      <td>handmade Lanyards for ID badges and Eye Glasse...</td>\n",
       "      <td>conjuctivitis2</td>\n",
       "    </tr>\n",
       "    <tr>\n",
       "      <th>3</th>\n",
       "      <td>@marissatunis wake up with the pink eye ????,</td>\n",
       "      <td>conjuctivitis2</td>\n",
       "    </tr>\n",
       "    <tr>\n",
       "      <th>4</th>\n",
       "      <td>Sperry Top Sider Womens Bahama 2 Eye Boat Shoe...</td>\n",
       "      <td>conjuctivitis2</td>\n",
       "    </tr>\n",
       "  </tbody>\n",
       "</table>\n",
       "</div>"
      ],
      "text/plain": [
       "                                                text           label\n",
       "0  Leicester eye title boost https://t.co/ldhz61a...  conjuctivitis2\n",
       "1                             New color! Baby pink!   conjuctivitis2\n",
       "2  handmade Lanyards for ID badges and Eye Glasse...  conjuctivitis2\n",
       "3      @marissatunis wake up with the pink eye ????,  conjuctivitis2\n",
       "4  Sperry Top Sider Womens Bahama 2 Eye Boat Shoe...  conjuctivitis2"
      ]
     },
     "execution_count": 20,
     "metadata": {},
     "output_type": "execute_result"
    }
   ],
   "source": [
    "conjuctivitis2.insert(1, \"label\", \"conjuctivitis2\") \n",
    "conjuctivitis2.head()"
   ]
  },
  {
   "cell_type": "code",
   "execution_count": 21,
   "metadata": {},
   "outputs": [
    {
     "data": {
      "text/html": [
       "<div>\n",
       "<style scoped>\n",
       "    .dataframe tbody tr th:only-of-type {\n",
       "        vertical-align: middle;\n",
       "    }\n",
       "\n",
       "    .dataframe tbody tr th {\n",
       "        vertical-align: top;\n",
       "    }\n",
       "\n",
       "    .dataframe thead th {\n",
       "        text-align: right;\n",
       "    }\n",
       "</style>\n",
       "<table border=\"1\" class=\"dataframe\">\n",
       "  <thead>\n",
       "    <tr style=\"text-align: right;\">\n",
       "      <th></th>\n",
       "      <th>text</th>\n",
       "    </tr>\n",
       "  </thead>\n",
       "  <tbody>\n",
       "    <tr>\n",
       "      <th>0</th>\n",
       "      <td>I haven't had the stomach flu since middle sch...</td>\n",
       "    </tr>\n",
       "    <tr>\n",
       "      <th>1</th>\n",
       "      <td>When you finally get your appetite back after ...</td>\n",
       "    </tr>\n",
       "    <tr>\n",
       "      <th>2</th>\n",
       "      <td>@_anddreaaa_ yup, with damn stomach flu</td>\n",
       "    </tr>\n",
       "    <tr>\n",
       "      <th>3</th>\n",
       "      <td>Think I caught the stomach flu lol</td>\n",
       "    </tr>\n",
       "    <tr>\n",
       "      <th>4</th>\n",
       "      <td>@_MadeeInAsiaa omfg lmaoooo stomach flu!!</td>\n",
       "    </tr>\n",
       "  </tbody>\n",
       "</table>\n",
       "</div>"
      ],
      "text/plain": [
       "                                                text\n",
       "0  I haven't had the stomach flu since middle sch...\n",
       "1  When you finally get your appetite back after ...\n",
       "2            @_anddreaaa_ yup, with damn stomach flu\n",
       "3                 Think I caught the stomach flu lol\n",
       "4          @_MadeeInAsiaa omfg lmaoooo stomach flu!!"
      ]
     },
     "execution_count": 21,
     "metadata": {},
     "output_type": "execute_result"
    }
   ],
   "source": [
    "gastroenteritis.head()"
   ]
  },
  {
   "cell_type": "code",
   "execution_count": 22,
   "metadata": {},
   "outputs": [
    {
     "data": {
      "text/html": [
       "<div>\n",
       "<style scoped>\n",
       "    .dataframe tbody tr th:only-of-type {\n",
       "        vertical-align: middle;\n",
       "    }\n",
       "\n",
       "    .dataframe tbody tr th {\n",
       "        vertical-align: top;\n",
       "    }\n",
       "\n",
       "    .dataframe thead th {\n",
       "        text-align: right;\n",
       "    }\n",
       "</style>\n",
       "<table border=\"1\" class=\"dataframe\">\n",
       "  <thead>\n",
       "    <tr style=\"text-align: right;\">\n",
       "      <th></th>\n",
       "      <th>text</th>\n",
       "      <th>label</th>\n",
       "    </tr>\n",
       "  </thead>\n",
       "  <tbody>\n",
       "    <tr>\n",
       "      <th>0</th>\n",
       "      <td>I haven't had the stomach flu since middle sch...</td>\n",
       "      <td>gastroenteritis</td>\n",
       "    </tr>\n",
       "    <tr>\n",
       "      <th>1</th>\n",
       "      <td>When you finally get your appetite back after ...</td>\n",
       "      <td>gastroenteritis</td>\n",
       "    </tr>\n",
       "    <tr>\n",
       "      <th>2</th>\n",
       "      <td>@_anddreaaa_ yup, with damn stomach flu</td>\n",
       "      <td>gastroenteritis</td>\n",
       "    </tr>\n",
       "    <tr>\n",
       "      <th>3</th>\n",
       "      <td>Think I caught the stomach flu lol</td>\n",
       "      <td>gastroenteritis</td>\n",
       "    </tr>\n",
       "    <tr>\n",
       "      <th>4</th>\n",
       "      <td>@_MadeeInAsiaa omfg lmaoooo stomach flu!!</td>\n",
       "      <td>gastroenteritis</td>\n",
       "    </tr>\n",
       "  </tbody>\n",
       "</table>\n",
       "</div>"
      ],
      "text/plain": [
       "                                                text            label\n",
       "0  I haven't had the stomach flu since middle sch...  gastroenteritis\n",
       "1  When you finally get your appetite back after ...  gastroenteritis\n",
       "2            @_anddreaaa_ yup, with damn stomach flu  gastroenteritis\n",
       "3                 Think I caught the stomach flu lol  gastroenteritis\n",
       "4          @_MadeeInAsiaa omfg lmaoooo stomach flu!!  gastroenteritis"
      ]
     },
     "execution_count": 22,
     "metadata": {},
     "output_type": "execute_result"
    }
   ],
   "source": [
    "gastroenteritis.insert(1, \"label\", \"gastroenteritis\") \n",
    "gastroenteritis.head()\n"
   ]
  },
  {
   "cell_type": "code",
   "execution_count": 23,
   "metadata": {},
   "outputs": [
    {
     "data": {
      "text/html": [
       "<div>\n",
       "<style scoped>\n",
       "    .dataframe tbody tr th:only-of-type {\n",
       "        vertical-align: middle;\n",
       "    }\n",
       "\n",
       "    .dataframe tbody tr th {\n",
       "        vertical-align: top;\n",
       "    }\n",
       "\n",
       "    .dataframe thead th {\n",
       "        text-align: right;\n",
       "    }\n",
       "</style>\n",
       "<table border=\"1\" class=\"dataframe\">\n",
       "  <thead>\n",
       "    <tr style=\"text-align: right;\">\n",
       "      <th></th>\n",
       "      <th>text</th>\n",
       "    </tr>\n",
       "  </thead>\n",
       "  <tbody>\n",
       "    <tr>\n",
       "      <th>0</th>\n",
       "      <td>mr. Flu better answer my email or else im goin...</td>\n",
       "    </tr>\n",
       "    <tr>\n",
       "      <th>1</th>\n",
       "      <td>Why Marketers Should Pay Attention to Google F...</td>\n",
       "    </tr>\n",
       "    <tr>\n",
       "      <th>2</th>\n",
       "      <td>I hate the flu. A lot.</td>\n",
       "    </tr>\n",
       "    <tr>\n",
       "      <th>3</th>\n",
       "      <td>Gota get something for this flu ehhh😒 iza ngam...</td>\n",
       "    </tr>\n",
       "    <tr>\n",
       "      <th>4</th>\n",
       "      <td>I'm pretty sure this man flu</td>\n",
       "    </tr>\n",
       "  </tbody>\n",
       "</table>\n",
       "</div>"
      ],
      "text/plain": [
       "                                                text\n",
       "0  mr. Flu better answer my email or else im goin...\n",
       "1  Why Marketers Should Pay Attention to Google F...\n",
       "2                             I hate the flu. A lot.\n",
       "3  Gota get something for this flu ehhh😒 iza ngam...\n",
       "4                       I'm pretty sure this man flu"
      ]
     },
     "execution_count": 23,
     "metadata": {},
     "output_type": "execute_result"
    }
   ],
   "source": [
    "influenza.head()"
   ]
  },
  {
   "cell_type": "code",
   "execution_count": 24,
   "metadata": {},
   "outputs": [
    {
     "data": {
      "text/html": [
       "<div>\n",
       "<style scoped>\n",
       "    .dataframe tbody tr th:only-of-type {\n",
       "        vertical-align: middle;\n",
       "    }\n",
       "\n",
       "    .dataframe tbody tr th {\n",
       "        vertical-align: top;\n",
       "    }\n",
       "\n",
       "    .dataframe thead th {\n",
       "        text-align: right;\n",
       "    }\n",
       "</style>\n",
       "<table border=\"1\" class=\"dataframe\">\n",
       "  <thead>\n",
       "    <tr style=\"text-align: right;\">\n",
       "      <th></th>\n",
       "      <th>text</th>\n",
       "      <th>label</th>\n",
       "    </tr>\n",
       "  </thead>\n",
       "  <tbody>\n",
       "    <tr>\n",
       "      <th>0</th>\n",
       "      <td>mr. Flu better answer my email or else im goin...</td>\n",
       "      <td>influenza</td>\n",
       "    </tr>\n",
       "    <tr>\n",
       "      <th>1</th>\n",
       "      <td>Why Marketers Should Pay Attention to Google F...</td>\n",
       "      <td>influenza</td>\n",
       "    </tr>\n",
       "    <tr>\n",
       "      <th>2</th>\n",
       "      <td>I hate the flu. A lot.</td>\n",
       "      <td>influenza</td>\n",
       "    </tr>\n",
       "    <tr>\n",
       "      <th>3</th>\n",
       "      <td>Gota get something for this flu ehhh😒 iza ngam...</td>\n",
       "      <td>influenza</td>\n",
       "    </tr>\n",
       "    <tr>\n",
       "      <th>4</th>\n",
       "      <td>I'm pretty sure this man flu</td>\n",
       "      <td>influenza</td>\n",
       "    </tr>\n",
       "  </tbody>\n",
       "</table>\n",
       "</div>"
      ],
      "text/plain": [
       "                                                text      label\n",
       "0  mr. Flu better answer my email or else im goin...  influenza\n",
       "1  Why Marketers Should Pay Attention to Google F...  influenza\n",
       "2                             I hate the flu. A lot.  influenza\n",
       "3  Gota get something for this flu ehhh😒 iza ngam...  influenza\n",
       "4                       I'm pretty sure this man flu  influenza"
      ]
     },
     "execution_count": 24,
     "metadata": {},
     "output_type": "execute_result"
    }
   ],
   "source": [
    "influenza.insert(1, \"label\", \"influenza\") \n",
    "influenza.head()\n"
   ]
  },
  {
   "cell_type": "code",
   "execution_count": 25,
   "metadata": {},
   "outputs": [
    {
     "data": {
      "text/html": [
       "<div>\n",
       "<style scoped>\n",
       "    .dataframe tbody tr th:only-of-type {\n",
       "        vertical-align: middle;\n",
       "    }\n",
       "\n",
       "    .dataframe tbody tr th {\n",
       "        vertical-align: top;\n",
       "    }\n",
       "\n",
       "    .dataframe thead th {\n",
       "        text-align: right;\n",
       "    }\n",
       "</style>\n",
       "<table border=\"1\" class=\"dataframe\">\n",
       "  <thead>\n",
       "    <tr style=\"text-align: right;\">\n",
       "      <th></th>\n",
       "      <th>text</th>\n",
       "    </tr>\n",
       "  </thead>\n",
       "  <tbody>\n",
       "    <tr>\n",
       "      <th>0</th>\n",
       "      <td>Norovirus Strikes British Cruise Ship! Hundred...</td>\n",
       "    </tr>\n",
       "    <tr>\n",
       "      <th>1</th>\n",
       "      <td>How do breast milk components interact with hu...</td>\n",
       "    </tr>\n",
       "    <tr>\n",
       "      <th>2</th>\n",
       "      <td>Hey girl you tust be the norovirus becaus. I c...</td>\n",
       "    </tr>\n",
       "    <tr>\n",
       "      <th>3</th>\n",
       "      <td>Hundreds of Brits struck with horror vomit-ind...</td>\n",
       "    </tr>\n",
       "    <tr>\n",
       "      <th>4</th>\n",
       "      <td>#HIS2016 @OutbreakJake what is the relationshi...</td>\n",
       "    </tr>\n",
       "  </tbody>\n",
       "</table>\n",
       "</div>"
      ],
      "text/plain": [
       "                                                text\n",
       "0  Norovirus Strikes British Cruise Ship! Hundred...\n",
       "1  How do breast milk components interact with hu...\n",
       "2  Hey girl you tust be the norovirus becaus. I c...\n",
       "3  Hundreds of Brits struck with horror vomit-ind...\n",
       "4  #HIS2016 @OutbreakJake what is the relationshi..."
      ]
     },
     "execution_count": 25,
     "metadata": {},
     "output_type": "execute_result"
    }
   ],
   "source": [
    "norovirus.head()"
   ]
  },
  {
   "cell_type": "code",
   "execution_count": 26,
   "metadata": {},
   "outputs": [
    {
     "data": {
      "text/html": [
       "<div>\n",
       "<style scoped>\n",
       "    .dataframe tbody tr th:only-of-type {\n",
       "        vertical-align: middle;\n",
       "    }\n",
       "\n",
       "    .dataframe tbody tr th {\n",
       "        vertical-align: top;\n",
       "    }\n",
       "\n",
       "    .dataframe thead th {\n",
       "        text-align: right;\n",
       "    }\n",
       "</style>\n",
       "<table border=\"1\" class=\"dataframe\">\n",
       "  <thead>\n",
       "    <tr style=\"text-align: right;\">\n",
       "      <th></th>\n",
       "      <th>text</th>\n",
       "      <th>label</th>\n",
       "    </tr>\n",
       "  </thead>\n",
       "  <tbody>\n",
       "    <tr>\n",
       "      <th>0</th>\n",
       "      <td>Norovirus Strikes British Cruise Ship! Hundred...</td>\n",
       "      <td>norovirus</td>\n",
       "    </tr>\n",
       "    <tr>\n",
       "      <th>1</th>\n",
       "      <td>How do breast milk components interact with hu...</td>\n",
       "      <td>norovirus</td>\n",
       "    </tr>\n",
       "    <tr>\n",
       "      <th>2</th>\n",
       "      <td>Hey girl you tust be the norovirus becaus. I c...</td>\n",
       "      <td>norovirus</td>\n",
       "    </tr>\n",
       "    <tr>\n",
       "      <th>3</th>\n",
       "      <td>Hundreds of Brits struck with horror vomit-ind...</td>\n",
       "      <td>norovirus</td>\n",
       "    </tr>\n",
       "    <tr>\n",
       "      <th>4</th>\n",
       "      <td>#HIS2016 @OutbreakJake what is the relationshi...</td>\n",
       "      <td>norovirus</td>\n",
       "    </tr>\n",
       "  </tbody>\n",
       "</table>\n",
       "</div>"
      ],
      "text/plain": [
       "                                                text      label\n",
       "0  Norovirus Strikes British Cruise Ship! Hundred...  norovirus\n",
       "1  How do breast milk components interact with hu...  norovirus\n",
       "2  Hey girl you tust be the norovirus becaus. I c...  norovirus\n",
       "3  Hundreds of Brits struck with horror vomit-ind...  norovirus\n",
       "4  #HIS2016 @OutbreakJake what is the relationshi...  norovirus"
      ]
     },
     "execution_count": 26,
     "metadata": {},
     "output_type": "execute_result"
    }
   ],
   "source": [
    "norovirus.insert(1, \"label\", \"norovirus\") \n",
    "norovirus.head()"
   ]
  },
  {
   "cell_type": "code",
   "execution_count": 27,
   "metadata": {},
   "outputs": [
    {
     "data": {
      "text/html": [
       "<div>\n",
       "<style scoped>\n",
       "    .dataframe tbody tr th:only-of-type {\n",
       "        vertical-align: middle;\n",
       "    }\n",
       "\n",
       "    .dataframe tbody tr th {\n",
       "        vertical-align: top;\n",
       "    }\n",
       "\n",
       "    .dataframe thead th {\n",
       "        text-align: right;\n",
       "    }\n",
       "</style>\n",
       "<table border=\"1\" class=\"dataframe\">\n",
       "  <thead>\n",
       "    <tr style=\"text-align: right;\">\n",
       "      <th></th>\n",
       "      <th>text</th>\n",
       "    </tr>\n",
       "  </thead>\n",
       "  <tbody>\n",
       "    <tr>\n",
       "      <th>0</th>\n",
       "      <td>Even if COVID-19 is unavoidable, delaying infe...</td>\n",
       "    </tr>\n",
       "    <tr>\n",
       "      <th>1</th>\n",
       "      <td>An Italian hospital ran out of ICU valves. A l...</td>\n",
       "    </tr>\n",
       "    <tr>\n",
       "      <th>2</th>\n",
       "      <td>Mitt Romney: Every American adult should immed...</td>\n",
       "    </tr>\n",
       "    <tr>\n",
       "      <th>3</th>\n",
       "      <td>As expected, Pornhub offers free Premium acces...</td>\n",
       "    </tr>\n",
       "    <tr>\n",
       "      <th>4</th>\n",
       "      <td>Italy: Surgeon, anesthesiologist and nurse hav...</td>\n",
       "    </tr>\n",
       "  </tbody>\n",
       "</table>\n",
       "</div>"
      ],
      "text/plain": [
       "                                                text\n",
       "0  Even if COVID-19 is unavoidable, delaying infe...\n",
       "1  An Italian hospital ran out of ICU valves. A l...\n",
       "2  Mitt Romney: Every American adult should immed...\n",
       "3  As expected, Pornhub offers free Premium acces...\n",
       "4  Italy: Surgeon, anesthesiologist and nurse hav..."
      ]
     },
     "execution_count": 27,
     "metadata": {},
     "output_type": "execute_result"
    }
   ],
   "source": [
    "covid.head()"
   ]
  },
  {
   "cell_type": "code",
   "execution_count": 28,
   "metadata": {},
   "outputs": [
    {
     "data": {
      "text/html": [
       "<div>\n",
       "<style scoped>\n",
       "    .dataframe tbody tr th:only-of-type {\n",
       "        vertical-align: middle;\n",
       "    }\n",
       "\n",
       "    .dataframe tbody tr th {\n",
       "        vertical-align: top;\n",
       "    }\n",
       "\n",
       "    .dataframe thead th {\n",
       "        text-align: right;\n",
       "    }\n",
       "</style>\n",
       "<table border=\"1\" class=\"dataframe\">\n",
       "  <thead>\n",
       "    <tr style=\"text-align: right;\">\n",
       "      <th></th>\n",
       "      <th>text</th>\n",
       "      <th>label</th>\n",
       "    </tr>\n",
       "  </thead>\n",
       "  <tbody>\n",
       "    <tr>\n",
       "      <th>0</th>\n",
       "      <td>Even if COVID-19 is unavoidable, delaying infe...</td>\n",
       "      <td>covid</td>\n",
       "    </tr>\n",
       "    <tr>\n",
       "      <th>1</th>\n",
       "      <td>An Italian hospital ran out of ICU valves. A l...</td>\n",
       "      <td>covid</td>\n",
       "    </tr>\n",
       "    <tr>\n",
       "      <th>2</th>\n",
       "      <td>Mitt Romney: Every American adult should immed...</td>\n",
       "      <td>covid</td>\n",
       "    </tr>\n",
       "    <tr>\n",
       "      <th>3</th>\n",
       "      <td>As expected, Pornhub offers free Premium acces...</td>\n",
       "      <td>covid</td>\n",
       "    </tr>\n",
       "    <tr>\n",
       "      <th>4</th>\n",
       "      <td>Italy: Surgeon, anesthesiologist and nurse hav...</td>\n",
       "      <td>covid</td>\n",
       "    </tr>\n",
       "  </tbody>\n",
       "</table>\n",
       "</div>"
      ],
      "text/plain": [
       "                                                text  label\n",
       "0  Even if COVID-19 is unavoidable, delaying infe...  covid\n",
       "1  An Italian hospital ran out of ICU valves. A l...  covid\n",
       "2  Mitt Romney: Every American adult should immed...  covid\n",
       "3  As expected, Pornhub offers free Premium acces...  covid\n",
       "4  Italy: Surgeon, anesthesiologist and nurse hav...  covid"
      ]
     },
     "execution_count": 28,
     "metadata": {},
     "output_type": "execute_result"
    }
   ],
   "source": [
    "covid.insert(1, \"label\", \"covid\") \n",
    "covid.head()"
   ]
  },
  {
   "cell_type": "code",
   "execution_count": 38,
   "metadata": {},
   "outputs": [],
   "source": [
    "#Concating  all datasets in collectedData\n",
    "collectedData  = pd.concat([conjuctivitis, conjuctivitis2,gastroenteritis,influenza,norovirus,covid], ignore_index=True)\n"
   ]
  },
  {
   "cell_type": "code",
   "execution_count": 39,
   "metadata": {},
   "outputs": [
    {
     "data": {
      "text/html": [
       "<div>\n",
       "<style scoped>\n",
       "    .dataframe tbody tr th:only-of-type {\n",
       "        vertical-align: middle;\n",
       "    }\n",
       "\n",
       "    .dataframe tbody tr th {\n",
       "        vertical-align: top;\n",
       "    }\n",
       "\n",
       "    .dataframe thead th {\n",
       "        text-align: right;\n",
       "    }\n",
       "</style>\n",
       "<table border=\"1\" class=\"dataframe\">\n",
       "  <thead>\n",
       "    <tr style=\"text-align: right;\">\n",
       "      <th></th>\n",
       "      <th>text</th>\n",
       "      <th>label</th>\n",
       "    </tr>\n",
       "  </thead>\n",
       "  <tbody>\n",
       "    <tr>\n",
       "      <th>0</th>\n",
       "      <td>RT @UnicornDoc: When you have a stye in one ey...</td>\n",
       "      <td>conjuctivitis</td>\n",
       "    </tr>\n",
       "    <tr>\n",
       "      <th>1</th>\n",
       "      <td>When you have a stye in one eye and conjunctiv...</td>\n",
       "      <td>conjuctivitis</td>\n",
       "    </tr>\n",
       "    <tr>\n",
       "      <th>2</th>\n",
       "      <td>@nimmajji Get conjunctivitis from somewhere.. ...</td>\n",
       "      <td>conjuctivitis</td>\n",
       "    </tr>\n",
       "    <tr>\n",
       "      <th>3</th>\n",
       "      <td>RT @master_usmle: Streptococcus pneumoniae: di...</td>\n",
       "      <td>conjuctivitis</td>\n",
       "    </tr>\n",
       "    <tr>\n",
       "      <th>4</th>\n",
       "      <td>Actually so grateful for these eye drops the o...</td>\n",
       "      <td>conjuctivitis</td>\n",
       "    </tr>\n",
       "    <tr>\n",
       "      <th>...</th>\n",
       "      <td>...</td>\n",
       "      <td>...</td>\n",
       "    </tr>\n",
       "    <tr>\n",
       "      <th>15995</th>\n",
       "      <td>Just ate food. Real food! Including a vegetabl...</td>\n",
       "      <td>norovirus</td>\n",
       "    </tr>\n",
       "    <tr>\n",
       "      <th>15996</th>\n",
       "      <td>Heard of @ChipotleTweets infamous norovirus is...</td>\n",
       "      <td>norovirus</td>\n",
       "    </tr>\n",
       "    <tr>\n",
       "      <th>15997</th>\n",
       "      <td>Do you know why detecting sporadic Norovirus c...</td>\n",
       "      <td>norovirus</td>\n",
       "    </tr>\n",
       "    <tr>\n",
       "      <th>15998</th>\n",
       "      <td>She smearing norovirus on your doorstep cuz sh...</td>\n",
       "      <td>norovirus</td>\n",
       "    </tr>\n",
       "    <tr>\n",
       "      <th>15999</th>\n",
       "      <td>@koalaski7 Pretty much the same and recovering...</td>\n",
       "      <td>norovirus</td>\n",
       "    </tr>\n",
       "  </tbody>\n",
       "</table>\n",
       "<p>16000 rows × 2 columns</p>\n",
       "</div>"
      ],
      "text/plain": [
       "                                                    text          label\n",
       "0      RT @UnicornDoc: When you have a stye in one ey...  conjuctivitis\n",
       "1      When you have a stye in one eye and conjunctiv...  conjuctivitis\n",
       "2      @nimmajji Get conjunctivitis from somewhere.. ...  conjuctivitis\n",
       "3      RT @master_usmle: Streptococcus pneumoniae: di...  conjuctivitis\n",
       "4      Actually so grateful for these eye drops the o...  conjuctivitis\n",
       "...                                                  ...            ...\n",
       "15995  Just ate food. Real food! Including a vegetabl...      norovirus\n",
       "15996  Heard of @ChipotleTweets infamous norovirus is...      norovirus\n",
       "15997  Do you know why detecting sporadic Norovirus c...      norovirus\n",
       "15998  She smearing norovirus on your doorstep cuz sh...      norovirus\n",
       "15999  @koalaski7 Pretty much the same and recovering...      norovirus\n",
       "\n",
       "[16000 rows x 2 columns]"
      ]
     },
     "execution_count": 39,
     "metadata": {},
     "output_type": "execute_result"
    }
   ],
   "source": [
    "collectedData.head(16000)"
   ]
  },
  {
   "cell_type": "code",
   "execution_count": 40,
   "metadata": {},
   "outputs": [
    {
     "data": {
      "text/plain": [
       "(25681, 2)"
      ]
     },
     "execution_count": 40,
     "metadata": {},
     "output_type": "execute_result"
    }
   ],
   "source": [
    "collectedData.shape"
   ]
  },
  {
   "cell_type": "code",
   "execution_count": 41,
   "metadata": {},
   "outputs": [],
   "source": [
    "#collectedData.drop_duplicates(keep='first')"
   ]
  },
  {
   "cell_type": "code",
   "execution_count": 42,
   "metadata": {},
   "outputs": [
    {
     "data": {
      "text/html": [
       "<div>\n",
       "<style scoped>\n",
       "    .dataframe tbody tr th:only-of-type {\n",
       "        vertical-align: middle;\n",
       "    }\n",
       "\n",
       "    .dataframe tbody tr th {\n",
       "        vertical-align: top;\n",
       "    }\n",
       "\n",
       "    .dataframe thead th {\n",
       "        text-align: right;\n",
       "    }\n",
       "</style>\n",
       "<table border=\"1\" class=\"dataframe\">\n",
       "  <thead>\n",
       "    <tr style=\"text-align: right;\">\n",
       "      <th></th>\n",
       "      <th>text</th>\n",
       "      <th>label</th>\n",
       "      <th>is_duplicate</th>\n",
       "    </tr>\n",
       "  </thead>\n",
       "  <tbody>\n",
       "    <tr>\n",
       "      <th>0</th>\n",
       "      <td>RT @UnicornDoc: When you have a stye in one ey...</td>\n",
       "      <td>conjuctivitis</td>\n",
       "      <td>False</td>\n",
       "    </tr>\n",
       "    <tr>\n",
       "      <th>1</th>\n",
       "      <td>When you have a stye in one eye and conjunctiv...</td>\n",
       "      <td>conjuctivitis</td>\n",
       "      <td>False</td>\n",
       "    </tr>\n",
       "    <tr>\n",
       "      <th>2</th>\n",
       "      <td>@nimmajji Get conjunctivitis from somewhere.. ...</td>\n",
       "      <td>conjuctivitis</td>\n",
       "      <td>False</td>\n",
       "    </tr>\n",
       "    <tr>\n",
       "      <th>3</th>\n",
       "      <td>RT @master_usmle: Streptococcus pneumoniae: di...</td>\n",
       "      <td>conjuctivitis</td>\n",
       "      <td>False</td>\n",
       "    </tr>\n",
       "    <tr>\n",
       "      <th>4</th>\n",
       "      <td>Actually so grateful for these eye drops the o...</td>\n",
       "      <td>conjuctivitis</td>\n",
       "      <td>False</td>\n",
       "    </tr>\n",
       "    <tr>\n",
       "      <th>...</th>\n",
       "      <td>...</td>\n",
       "      <td>...</td>\n",
       "      <td>...</td>\n",
       "    </tr>\n",
       "    <tr>\n",
       "      <th>25676</th>\n",
       "      <td>Cuomo on Fox</td>\n",
       "      <td>covid</td>\n",
       "      <td>False</td>\n",
       "    </tr>\n",
       "    <tr>\n",
       "      <th>25677</th>\n",
       "      <td>All 42 Apple Stores in China have reopened | S...</td>\n",
       "      <td>covid</td>\n",
       "      <td>False</td>\n",
       "    </tr>\n",
       "    <tr>\n",
       "      <th>25678</th>\n",
       "      <td>Any Tool fans in the sub? lol</td>\n",
       "      <td>covid</td>\n",
       "      <td>False</td>\n",
       "    </tr>\n",
       "    <tr>\n",
       "      <th>25679</th>\n",
       "      <td>Italy, please tell us, is it worth stocking up...</td>\n",
       "      <td>covid</td>\n",
       "      <td>False</td>\n",
       "    </tr>\n",
       "    <tr>\n",
       "      <th>25680</th>\n",
       "      <td>Trump Clarifies Americans WILL BE Barred From ...</td>\n",
       "      <td>covid</td>\n",
       "      <td>False</td>\n",
       "    </tr>\n",
       "  </tbody>\n",
       "</table>\n",
       "<p>25681 rows × 3 columns</p>\n",
       "</div>"
      ],
      "text/plain": [
       "                                                    text          label  \\\n",
       "0      RT @UnicornDoc: When you have a stye in one ey...  conjuctivitis   \n",
       "1      When you have a stye in one eye and conjunctiv...  conjuctivitis   \n",
       "2      @nimmajji Get conjunctivitis from somewhere.. ...  conjuctivitis   \n",
       "3      RT @master_usmle: Streptococcus pneumoniae: di...  conjuctivitis   \n",
       "4      Actually so grateful for these eye drops the o...  conjuctivitis   \n",
       "...                                                  ...            ...   \n",
       "25676                                       Cuomo on Fox          covid   \n",
       "25677  All 42 Apple Stores in China have reopened | S...          covid   \n",
       "25678                      Any Tool fans in the sub? lol          covid   \n",
       "25679  Italy, please tell us, is it worth stocking up...          covid   \n",
       "25680  Trump Clarifies Americans WILL BE Barred From ...          covid   \n",
       "\n",
       "       is_duplicate  \n",
       "0             False  \n",
       "1             False  \n",
       "2             False  \n",
       "3             False  \n",
       "4             False  \n",
       "...             ...  \n",
       "25676         False  \n",
       "25677         False  \n",
       "25678         False  \n",
       "25679         False  \n",
       "25680         False  \n",
       "\n",
       "[25681 rows x 3 columns]"
      ]
     },
     "execution_count": 42,
     "metadata": {},
     "output_type": "execute_result"
    }
   ],
   "source": [
    "collectedData[\"is_duplicate\"]= collectedData.duplicated()\n",
    "collectedData"
   ]
  },
  {
   "cell_type": "code",
   "execution_count": 45,
   "metadata": {},
   "outputs": [
    {
     "data": {
      "text/html": [
       "<div>\n",
       "<style scoped>\n",
       "    .dataframe tbody tr th:only-of-type {\n",
       "        vertical-align: middle;\n",
       "    }\n",
       "\n",
       "    .dataframe tbody tr th {\n",
       "        vertical-align: top;\n",
       "    }\n",
       "\n",
       "    .dataframe thead th {\n",
       "        text-align: right;\n",
       "    }\n",
       "</style>\n",
       "<table border=\"1\" class=\"dataframe\">\n",
       "  <thead>\n",
       "    <tr style=\"text-align: right;\">\n",
       "      <th></th>\n",
       "      <th>text</th>\n",
       "      <th>label</th>\n",
       "      <th>is_duplicate</th>\n",
       "    </tr>\n",
       "  </thead>\n",
       "  <tbody>\n",
       "    <tr>\n",
       "      <th>0</th>\n",
       "      <td>RT @UnicornDoc: When you have a stye in one ey...</td>\n",
       "      <td>conjuctivitis</td>\n",
       "      <td>False</td>\n",
       "    </tr>\n",
       "    <tr>\n",
       "      <th>1</th>\n",
       "      <td>When you have a stye in one eye and conjunctiv...</td>\n",
       "      <td>conjuctivitis</td>\n",
       "      <td>False</td>\n",
       "    </tr>\n",
       "    <tr>\n",
       "      <th>2</th>\n",
       "      <td>@nimmajji Get conjunctivitis from somewhere.. ...</td>\n",
       "      <td>conjuctivitis</td>\n",
       "      <td>False</td>\n",
       "    </tr>\n",
       "    <tr>\n",
       "      <th>3</th>\n",
       "      <td>RT @master_usmle: Streptococcus pneumoniae: di...</td>\n",
       "      <td>conjuctivitis</td>\n",
       "      <td>False</td>\n",
       "    </tr>\n",
       "    <tr>\n",
       "      <th>4</th>\n",
       "      <td>Actually so grateful for these eye drops the o...</td>\n",
       "      <td>conjuctivitis</td>\n",
       "      <td>False</td>\n",
       "    </tr>\n",
       "  </tbody>\n",
       "</table>\n",
       "</div>"
      ],
      "text/plain": [
       "                                                text          label  \\\n",
       "0  RT @UnicornDoc: When you have a stye in one ey...  conjuctivitis   \n",
       "1  When you have a stye in one eye and conjunctiv...  conjuctivitis   \n",
       "2  @nimmajji Get conjunctivitis from somewhere.. ...  conjuctivitis   \n",
       "3  RT @master_usmle: Streptococcus pneumoniae: di...  conjuctivitis   \n",
       "4  Actually so grateful for these eye drops the o...  conjuctivitis   \n",
       "\n",
       "   is_duplicate  \n",
       "0         False  \n",
       "1         False  \n",
       "2         False  \n",
       "3         False  \n",
       "4         False  "
      ]
     },
     "execution_count": 45,
     "metadata": {},
     "output_type": "execute_result"
    }
   ],
   "source": [
    "collectedData.head()"
   ]
  },
  {
   "cell_type": "code",
   "execution_count": 48,
   "metadata": {},
   "outputs": [],
   "source": [
    "collectedData.drop_duplicates(keep='first',inplace=True)"
   ]
  },
  {
   "cell_type": "code",
   "execution_count": 50,
   "metadata": {},
   "outputs": [
    {
     "data": {
      "text/html": [
       "<div>\n",
       "<style scoped>\n",
       "    .dataframe tbody tr th:only-of-type {\n",
       "        vertical-align: middle;\n",
       "    }\n",
       "\n",
       "    .dataframe tbody tr th {\n",
       "        vertical-align: top;\n",
       "    }\n",
       "\n",
       "    .dataframe thead th {\n",
       "        text-align: right;\n",
       "    }\n",
       "</style>\n",
       "<table border=\"1\" class=\"dataframe\">\n",
       "  <thead>\n",
       "    <tr style=\"text-align: right;\">\n",
       "      <th></th>\n",
       "      <th>text</th>\n",
       "      <th>label</th>\n",
       "      <th>is_duplicate</th>\n",
       "    </tr>\n",
       "  </thead>\n",
       "  <tbody>\n",
       "    <tr>\n",
       "      <th>0</th>\n",
       "      <td>RT @UnicornDoc: When you have a stye in one ey...</td>\n",
       "      <td>conjuctivitis</td>\n",
       "      <td>False</td>\n",
       "    </tr>\n",
       "    <tr>\n",
       "      <th>1</th>\n",
       "      <td>When you have a stye in one eye and conjunctiv...</td>\n",
       "      <td>conjuctivitis</td>\n",
       "      <td>False</td>\n",
       "    </tr>\n",
       "    <tr>\n",
       "      <th>2</th>\n",
       "      <td>@nimmajji Get conjunctivitis from somewhere.. ...</td>\n",
       "      <td>conjuctivitis</td>\n",
       "      <td>False</td>\n",
       "    </tr>\n",
       "    <tr>\n",
       "      <th>3</th>\n",
       "      <td>RT @master_usmle: Streptococcus pneumoniae: di...</td>\n",
       "      <td>conjuctivitis</td>\n",
       "      <td>False</td>\n",
       "    </tr>\n",
       "    <tr>\n",
       "      <th>4</th>\n",
       "      <td>Actually so grateful for these eye drops the o...</td>\n",
       "      <td>conjuctivitis</td>\n",
       "      <td>False</td>\n",
       "    </tr>\n",
       "  </tbody>\n",
       "</table>\n",
       "</div>"
      ],
      "text/plain": [
       "                                                text          label  \\\n",
       "0  RT @UnicornDoc: When you have a stye in one ey...  conjuctivitis   \n",
       "1  When you have a stye in one eye and conjunctiv...  conjuctivitis   \n",
       "2  @nimmajji Get conjunctivitis from somewhere.. ...  conjuctivitis   \n",
       "3  RT @master_usmle: Streptococcus pneumoniae: di...  conjuctivitis   \n",
       "4  Actually so grateful for these eye drops the o...  conjuctivitis   \n",
       "\n",
       "   is_duplicate  \n",
       "0         False  \n",
       "1         False  \n",
       "2         False  \n",
       "3         False  \n",
       "4         False  "
      ]
     },
     "execution_count": 50,
     "metadata": {},
     "output_type": "execute_result"
    }
   ],
   "source": [
    "collectedData.head()"
   ]
  },
  {
   "cell_type": "code",
   "execution_count": 52,
   "metadata": {},
   "outputs": [
    {
     "data": {
      "text/plain": [
       "(25603, 4)"
      ]
     },
     "execution_count": 52,
     "metadata": {},
     "output_type": "execute_result"
    }
   ],
   "source": [
    "collectedData.shape"
   ]
  },
  {
   "cell_type": "code",
   "execution_count": 53,
   "metadata": {},
   "outputs": [
    {
     "data": {
      "text/plain": [
       "'RT @master_usmle: Streptococcus pneumoniae: diseases caused\\r\\nCOMPS:\\r\\nConjunctivitis\\r\\nOtitis media\\r\\nMeningitis\\r\\nPneumonia\\r\\nSinusitis'"
      ]
     },
     "execution_count": 53,
     "metadata": {},
     "output_type": "execute_result"
    }
   ],
   "source": [
    "collectedData[\"text\"][3]"
   ]
  },
  {
   "cell_type": "code",
   "execution_count": 54,
   "metadata": {},
   "outputs": [
    {
     "data": {
      "text/plain": [
       "<matplotlib.axes._subplots.AxesSubplot at 0x1ac2860b888>"
      ]
     },
     "execution_count": 54,
     "metadata": {},
     "output_type": "execute_result"
    },
    {
     "data": {
      "image/png": "[encoded data removed]",
      "text/plain": [
       "<Figure size 432x288 with 1 Axes>"
      ]
     },
     "metadata": {
      "needs_background": "light"
     },
     "output_type": "display_data"
    }
   ],
   "source": [
    "sns.countplot(x='label',data=collectedData)"
   ]
  },
  {
   "cell_type": "code",
   "execution_count": 55,
   "metadata": {},
   "outputs": [],
   "source": [
    "from wordcloud import WordCloud, ImageColorGenerator"
   ]
  },
  {
   "cell_type": "code",
   "execution_count": 56,
   "metadata": {},
   "outputs": [],
   "source": [
    "unique_string=(\" \").join(collectedData['text'])\n",
    "wordcloud = WordCloud(width = 1000, height = 500, background_color=\"white\").generate(unique_string)\n"
   ]
  },
  {
   "cell_type": "code",
   "execution_count": 58,
   "metadata": {},
   "outputs": [
    {
     "data": {
      "image/png": "[encoded data removed]",
      "text/plain": [
       "<Figure size 1080x576 with 1 Axes>"
      ]
     },
     "metadata": {
      "needs_background": "light"
     },
     "output_type": "display_data"
    }
   ],
   "source": [
    "plt.figure(figsize=(15,8))\n",
    "plt.imshow(wordcloud)\n",
    "plt.axis(\"off\")\n",
    "plt.savefig(\"WordCloud_CollectedData\"+\".png\", bbox_inches='tight')\n",
    "plt.show()\n",
    "plt.close()"
   ]
  },
  {
   "cell_type": "markdown",
   "metadata": {},
   "source": [
    "## Data Preprocessing:\n",
    "\n",
    "<b> preprocess_text:</b> function that remove special characters , HTML tags from the string  and multiple spaces , make sentence to lower case then stemming this sentence <br/>\n",
    "<b> stemming_text: </b> function that takes a text string as a parameter then make it as a sequence of word then stemming those words then return stemmed words as text string \n",
    "<br/>\n",
    "> `example of stemming` : text before stemming \"connect connected connection connections connects\" <br/>\n",
    "                                after: \"connect connect connect connect connect\" \n",
    "                                \n",
    "<b> stops_words: </b> function that lowercase everything and filter tokens to only keep the tokens that aren't in a list of Stop Words. this function use : <br/>\n",
    "<ul>\n",
    "    <li> <b> NLTK</b>  to make tokens out of the words in the input sentence using </li>\n",
    "    <li> <b>lambda</b> to make a quick throwaway function and only assign the words to our variable if they aren't in a list of Stop Words provided by NLTK.</li>\n",
    "</ul>\n",
    "<b> lemmatize: </b> function for Lemmatization which considers the context and converts the word to its meaningful base form "
   ]
  },
  {
   "cell_type": "markdown",
   "metadata": {},
   "source": [
    "> ` example to explain the difference between stemming and lemmatization` : lemmatization would correctly identify the base form of ‘caring’ to ‘care’, whereas, stemming would cutoff the ‘ing’ part and convert it to car. <br/>\n",
    "+ ‘Caring’ -> Lemmatization -> ‘Care’ \n",
    "+ ‘Caring’ -> Stemming -> ‘Car’ "
   ]
  },
  {
   "cell_type": "markdown",
   "metadata": {},
   "source": [
    "__cleaning_tweets__: function that remove retweet keyword \"RT\" , hyperlinks ,stock market tickers , hashtags (remove only # ), and predefined emoticons."
   ]
  },
  {
   "cell_type": "code",
   "execution_count": 59,
   "metadata": {},
   "outputs": [],
   "source": [
    "# Happy Emoticons\n",
    "emoticons_happy = set([\n",
    "    ':-)', ':)', ';)', ':o)', ':]', ':3', ':c)', ':>', '=]', '8)', '=)', ':}',\n",
    "    ':^)', ':-D', ':D', '8-D', '8D', 'x-D', 'xD', 'X-D', 'XD', '=-D', '=D',\n",
    "    '=-3', '=3', ':-))', \":'-)\", \":')\", ':*', ':^*', '>:P', ':-P', ':P', 'X-P',\n",
    "    'x-p', 'xp', 'XP', ':-p', ':p', '=p', ':-b', ':b', '>:)', '>;)', '>:-)',\n",
    "    '<3'\n",
    "    ])\n",
    " \n",
    "# Sad Emoticons\n",
    "emoticons_sad = set([\n",
    "    ':L', ':-/', '>:/', ':S', '>:[', ':@', ':-(', ':[', ':-||', '=L', ':<',\n",
    "    ':-[', ':-<', '=\\\\', '=/', '>:(', ':(', '>.<', \":'-(\", \":'(\", ':\\\\', ':-c',\n",
    "    ':c', ':{', '>:\\\\', ';('\n",
    "    ])\n",
    " \n",
    "# all emoticons (happy + sad)\n",
    "emoticons = emoticons_happy.union(emoticons_sad)\n"
   ]
  },
  {
   "cell_type": "code",
   "execution_count": 60,
   "metadata": {},
   "outputs": [],
   "source": [
    "def cleaning_tweets(text):\n",
    "    # remove stock market tickers like $GE\n",
    "    tweet = re.sub(r'\\$\\w*', '', text)\n",
    " \n",
    "    # remove old style retweet text \"RT\"\n",
    "    tweet = re.sub(r'^RT[\\s]+', '', tweet)\n",
    " \n",
    "    # remove hyperlinks\n",
    "    tweet = re.sub(r'https?:\\/\\/.*[\\r\\n]*', '', tweet)\n",
    "    \n",
    "    # remove hashtags\n",
    "    # only removing the hash # sign from the word\n",
    "    tweet = re.sub(r'#', '', tweet)\n",
    " \n",
    "    # tokenize tweets\n",
    "    tokenizer = TweetTokenizer(preserve_case=False, strip_handles=True, reduce_len=True)\n",
    "    tweet_tokens = tokenizer.tokenize(tweet)\n",
    " \n",
    "    tweets_clean = []    \n",
    "    for word in tweet_tokens:\n",
    "        if (word not in emoticons and # remove emoticons\n",
    "                word not in string.punctuation): # remove punctuation\n",
    "            tweets_clean.append(word)\n",
    " \n",
    "    return tweets_clean\n",
    " "
   ]
  },
  {
   "cell_type": "code",
   "execution_count": 61,
   "metadata": {},
   "outputs": [],
   "source": [
    "def stemming_text(text):\n",
    "    porter_stemmer=PorterStemmer()\n",
    "    # init stemmer\n",
    "    sentm = keras.preprocessing.text.text_to_word_sequence(text, filters='!\"#$%&()*+,-./:;<=>?@[\\\\]^_`{|}~\\t\\n', lower=True, split=' ')\n",
    "    \n",
    "    #sentm is sequence of words of the input text\n",
    "    sent=[porter_stemmer.stem(word=word) for word in sentm]\n",
    "    \n",
    "    #stemming each word in that sequence and store them in sent ( another sequence of stemmed words)\n",
    "    sentSRT=\" \"\n",
    "    sentSRT=sentSRT.join(sent)\n",
    "    # join the sequence of stemmed word to full sentence\n",
    "    return sentSRT\n",
    "\n",
    "def lemmatize(text):\n",
    "    # Init the Wordnet Lemmatizer\n",
    "    lemmatizer = WordNetLemmatizer()\n",
    "    \n",
    "    sentm = keras.preprocessing.text.text_to_word_sequence(text, filters='!\"#$%&()*+,-./:;<=>?@[\\\\]^_`{|}~\\t\\n', lower=True, split=' ')\n",
    "    # Lemmatize list of words of sentence and join\n",
    "    lemmatized_output = ' '.join([lemmatizer.lemmatize(w) for w in sentm])\n",
    "\n",
    "    return lemmatized_output\n",
    "\n",
    "def stops_words(input):\n",
    "    # lowercase everything to standardize it\n",
    "    input = input.lower()\n",
    "\n",
    "    # instantiate the tokenizer\n",
    "    tokenizer = RegexpTokenizer(r'\\w+')\n",
    "    tokens = tokenizer.tokenize(input)\n",
    "\n",
    "    # if the created token isn't in the stop words, make it part of \"filtered\"\n",
    "    filtered = filter(lambda token: token not in stopwords.words('english'), tokens)\n",
    "    return \" \".join(filtered)\n"
   ]
  },
  {
   "cell_type": "code",
   "execution_count": 62,
   "metadata": {},
   "outputs": [],
   "source": [
    "# remove_tags function: replaces anything between opening and closing <> with an empty space.\n",
    "def remove_tags(text):\n",
    "    TAG_RE = re.compile(r'<[^>]+>')\n",
    "    return TAG_RE.sub('', text)\n",
    "\n",
    "def preprocess_text(sen):\n",
    "    # Removing html tags with another function \n",
    "    sentence = remove_tags(sen)\n",
    "    \n",
    "    sentence = \" \".join(cleaning_tweets(sentence))\n",
    "    \n",
    "    # Remove punctuations and numbers\n",
    "    sentence = re.sub('[^a-zA-Z]', ' ', sentence)\n",
    "    \n",
    "    #Remove stop words\n",
    "    sentence=stops_words(sentence)\n",
    "        \n",
    "    #lemmatize sentence\n",
    "    sentence = lemmatize(sentence)\n",
    "    \n",
    "    #stemming text\n",
    "    sentence= stemming_text(sentence)\n",
    "    \n",
    "    # Single character removal\n",
    "    sentence = re.sub(r\"\\s+[a-zA-Z]\\s+\", ' ', sentence)\n",
    "    \n",
    "    return sentence"
   ]
  },
  {
   "cell_type": "markdown",
   "metadata": {},
   "source": [
    "+ __for \"text\" column__"
   ]
  },
  {
   "cell_type": "code",
   "execution_count": 63,
   "metadata": {},
   "outputs": [],
   "source": [
    "X = []\n",
    "sentences = list(collectedData['text'])\n",
    "for sen in sentences:\n",
    "    X.append(preprocess_text(sen))"
   ]
  },
  {
   "cell_type": "code",
   "execution_count": 64,
   "metadata": {},
   "outputs": [
    {
     "data": {
      "text/plain": [
       "'streptococcu pneumonia diseas caus comp conjunct otiti medium mening pneumonia sinus'"
      ]
     },
     "execution_count": 64,
     "metadata": {},
     "output_type": "execute_result"
    }
   ],
   "source": [
    "# print line n 4\n",
    "X[3]"
   ]
  },
  {
   "cell_type": "code",
   "execution_count": 65,
   "metadata": {},
   "outputs": [],
   "source": [
    "y = collectedData['label']"
   ]
  },
  {
   "cell_type": "markdown",
   "metadata": {},
   "source": [
    "<b>divide our dataset into train and test sets :</b> <br/>\n",
    "+ <b> The train set :</b> to train our deep learning models <br/>\n",
    "+ <b> The test set : </b> to evaluate how well our model performs\n",
    "\n"
   ]
  },
  {
   "cell_type": "code",
   "execution_count": 66,
   "metadata": {},
   "outputs": [
    {
     "name": "stdout",
     "output_type": "stream",
     "text": [
      "Shape of label tensor: (25603, 6)\n"
     ]
    }
   ],
   "source": [
    "y = pd.get_dummies(collectedData['label']).values\n",
    "print('Shape of label tensor:', y.shape)"
   ]
  },
  {
   "cell_type": "code",
   "execution_count": 67,
   "metadata": {},
   "outputs": [],
   "source": [
    "X_train, X_test, y_train, y_test = train_test_split(X, y, test_size=0.30, random_state=42)"
   ]
  },
  {
   "cell_type": "markdown",
   "metadata": {},
   "source": [
    "### Preparing the Embedding Layer :"
   ]
  },
  {
   "cell_type": "code",
   "execution_count": 68,
   "metadata": {},
   "outputs": [],
   "source": [
    "tokenizer = Tokenizer(num_words=5000)\n",
    "tokenizer.fit_on_texts(X_train)\n",
    "X_train = tokenizer.texts_to_sequences(X_train)\n",
    "X_test = tokenizer.texts_to_sequences(X_test)"
   ]
  },
  {
   "cell_type": "code",
   "execution_count": 69,
   "metadata": {},
   "outputs": [],
   "source": [
    "vocab_size = len(tokenizer.word_index) + 1\n",
    "# Adding 1 because of reserved 0 index\n",
    "maxlen = 100\n",
    "\n",
    "X_train = pad_sequences(X_train, padding='post', maxlen=maxlen)\n",
    "X_test = pad_sequences(X_test, padding='post', maxlen=maxlen)"
   ]
  },
  {
   "cell_type": "code",
   "execution_count": 70,
   "metadata": {},
   "outputs": [],
   "source": [
    "embeddings_dictionary = dict()\n",
    "glove_file = open('D:/Ds/glove.6B.100d.txt', encoding=\"utf8\")\n",
    "\n",
    "for line in glove_file:\n",
    "    records = line.split()\n",
    "    word = records[0]\n",
    "    vector_dimensions = asarray(records[1:], dtype='float32')\n",
    "    embeddings_dictionary [word] = vector_dimensions\n",
    "glove_file.close()\n",
    "embedding_matrix = zeros((vocab_size, 100))\n",
    "for word, index in tokenizer.word_index.items():\n",
    "    embedding_vector = embeddings_dictionary.get(word)\n",
    "    if embedding_vector is not None:\n",
    "        embedding_matrix[index] = embedding_vector"
   ]
  },
  {
   "cell_type": "markdown",
   "metadata": {},
   "source": [
    "## 1. With a Convolutional Neural Network (CNN)"
   ]
  },
  {
   "cell_type": "code",
   "execution_count": 126,
   "metadata": {},
   "outputs": [
    {
     "name": "stdout",
     "output_type": "stream",
     "text": [
      "Model: \"sequential_3\"\n",
      "_________________________________________________________________\n",
      "Layer (type)                 Output Shape              Param #   \n",
      "=================================================================\n",
      "embedding_3 (Embedding)      (None, 100, 100)          1166000   \n",
      "_________________________________________________________________\n",
      "conv1d_1 (Conv1D)            (None, 96, 64)            32064     \n",
      "_________________________________________________________________\n",
      "global_max_pooling1d_1 (Glob (None, 64)                0         \n",
      "_________________________________________________________________\n",
      "dropout_3 (Dropout)          (None, 64)                0         \n",
      "_________________________________________________________________\n",
      "dense_3 (Dense)              (None, 6)                 390       \n",
      "=================================================================\n",
      "Total params: 1,198,454\n",
      "Trainable params: 32,454\n",
      "Non-trainable params: 1,166,000\n",
      "_________________________________________________________________\n",
      "None\n"
     ]
    }
   ],
   "source": [
    "CNNmodel = Sequential()\n",
    "embedding_layer = Embedding(vocab_size, 100, weights=[embedding_matrix], input_length=maxlen , trainable=False)\n",
    "CNNmodel.add(embedding_layer)\n",
    "CNNmodel.add(Conv1D(64, 5, activation='relu'))\n",
    "CNNmodel.add(GlobalMaxPooling1D())\n",
    "CNNmodel.add(Dropout(0.2))\n",
    "\n",
    "# 6 : le nombre de classes \n",
    "CNNmodel.add(Dense(6, activation='softplus'))\n",
    "CNNmodel.compile(optimizer='Adamax', loss='categorical_crossentropy', metrics=['acc',keras.metrics.Precision(),\n",
    "                                                                     keras.metrics.Recall(),keras.metrics.AUC(curve=\"ROC\")])\n",
    "print(CNNmodel.summary())"
   ]
  },
  {
   "cell_type": "code",
   "execution_count": 127,
   "metadata": {},
   "outputs": [
    {
     "name": "stdout",
     "output_type": "stream",
     "text": [
      "Train on 14337 samples, validate on 3585 samples\n",
      "Epoch 1/15\n",
      "14337/14337 [==============================] - 4s 276us/step - loss: 0.6785 - acc: 0.7974 - precision_3: 0.5122 - recall_3: 0.9060 - auc_3: 0.8934 - val_loss: 0.3852 - val_acc: 0.8803 - val_precision_3: 0.7829 - val_recall_3: 0.9105 - val_auc_3: 0.9699\n",
      "\n",
      "Epoch 00001: val_acc improved from -inf to 0.88033, saving model to keras_weights.hdf5\n",
      "Epoch 2/15\n",
      "14337/14337 [==============================] - 3s 242us/step - loss: 0.3706 - acc: 0.8903 - precision_3: 0.7912 - recall_3: 0.8632 - auc_3: 0.9692 - val_loss: 0.2961 - val_acc: 0.9166 - val_precision_3: 0.8504 - val_recall_3: 0.8801 - val_auc_3: 0.9810\n",
      "\n",
      "Epoch 00002: val_acc improved from 0.88033 to 0.91660, saving model to keras_weights.hdf5\n",
      "Epoch 3/15\n",
      "14337/14337 [==============================] - 3s 240us/step - loss: 0.2967 - acc: 0.9138 - precision_3: 0.8416 - recall_3: 0.8078 - auc_3: 0.9751 - val_loss: 0.2565 - val_acc: 0.9269 - val_precision_3: 0.8814 - val_recall_3: 0.8229 - val_auc_3: 0.9828\n",
      "\n",
      "Epoch 00003: val_acc improved from 0.91660 to 0.92692, saving model to keras_weights.hdf5\n",
      "Epoch 4/15\n",
      "14337/14337 [==============================] - 4s 244us/step - loss: 0.2592 - acc: 0.9220 - precision_3: 0.8776 - recall_3: 0.7655 - auc_3: 0.9779 - val_loss: 0.2404 - val_acc: 0.9297 - val_precision_3: 0.9027 - val_recall_3: 0.7944 - val_auc_3: 0.9833\n",
      "\n",
      "Epoch 00004: val_acc improved from 0.92692 to 0.92971, saving model to keras_weights.hdf5\n",
      "Epoch 5/15\n",
      "14337/14337 [==============================] - 3s 242us/step - loss: 0.2375 - acc: 0.9289 - precision_3: 0.8981 - recall_3: 0.7451 - auc_3: 0.9794 - val_loss: 0.2308 - val_acc: 0.9311 - val_precision_3: 0.9250 - val_recall_3: 0.7810 - val_auc_3: 0.9848\n",
      "\n",
      "Epoch 00005: val_acc improved from 0.92971 to 0.93110, saving model to keras_weights.hdf5\n",
      "Epoch 6/15\n",
      "14337/14337 [==============================] - 4s 294us/step - loss: 0.2193 - acc: 0.9347 - precision_3: 0.9094 - recall_3: 0.7386 - auc_3: 0.9811 - val_loss: 0.2212 - val_acc: 0.9350 - val_precision_3: 0.9253 - val_recall_3: 0.7325 - val_auc_3: 0.9841\n",
      "\n",
      "Epoch 00006: val_acc improved from 0.93110 to 0.93501, saving model to keras_weights.hdf5\n",
      "Epoch 7/15\n",
      "14337/14337 [==============================] - 4s 283us/step - loss: 0.2110 - acc: 0.9356 - precision_3: 0.9169 - recall_3: 0.7043 - auc_3: 0.9811 - val_loss: 0.2177 - val_acc: 0.9339 - val_precision_3: 0.9298 - val_recall_3: 0.7350 - val_auc_3: 0.9845\n",
      "\n",
      "Epoch 00007: val_acc did not improve from 0.93501\n",
      "Epoch 8/15\n",
      "14337/14337 [==============================] - 4s 281us/step - loss: 0.1979 - acc: 0.9396 - precision_3: 0.9250 - recall_3: 0.6921 - auc_3: 0.9810 - val_loss: 0.2123 - val_acc: 0.9386 - val_precision_3: 0.9313 - val_recall_3: 0.6923 - val_auc_3: 0.9837\n",
      "\n",
      "Epoch 00008: val_acc improved from 0.93501 to 0.93863, saving model to keras_weights.hdf5\n",
      "Epoch 9/15\n",
      "14337/14337 [==============================] - 4s 294us/step - loss: 0.1855 - acc: 0.9413 - precision_3: 0.9289 - recall_3: 0.6659 - auc_3: 0.9817 - val_loss: 0.2081 - val_acc: 0.9378 - val_precision_3: 0.9328 - val_recall_3: 0.6848 - val_auc_3: 0.9830\n",
      "\n",
      "Epoch 00009: val_acc did not improve from 0.93863\n",
      "Epoch 10/15\n",
      "14337/14337 [==============================] - 4s 279us/step - loss: 0.1770 - acc: 0.9462 - precision_3: 0.9369 - recall_3: 0.6656 - auc_3: 0.9821 - val_loss: 0.2043 - val_acc: 0.9395 - val_precision_3: 0.9350 - val_recall_3: 0.6502 - val_auc_3: 0.9821\n",
      "\n",
      "Epoch 00010: val_acc improved from 0.93863 to 0.93947, saving model to keras_weights.hdf5\n",
      "Epoch 11/15\n",
      "14337/14337 [==============================] - 4s 278us/step - loss: 0.1684 - acc: 0.9463 - precision_3: 0.9435 - recall_3: 0.6588 - auc_3: 0.9828 - val_loss: 0.2049 - val_acc: 0.9395 - val_precision_3: 0.9553 - val_recall_3: 0.6625 - val_auc_3: 0.9829\n",
      "\n",
      "Epoch 00011: val_acc did not improve from 0.93947\n",
      "Epoch 12/15\n",
      "14337/14337 [==============================] - 4s 278us/step - loss: 0.1606 - acc: 0.9508 - precision_3: 0.9471 - recall_3: 0.6366 - auc_3: 0.9822 - val_loss: 0.2002 - val_acc: 0.9403 - val_precision_3: 0.9558 - val_recall_3: 0.6391 - val_auc_3: 0.9822\n",
      "\n",
      "Epoch 00012: val_acc improved from 0.93947 to 0.94031, saving model to keras_weights.hdf5\n",
      "Epoch 13/15\n",
      "14337/14337 [==============================] - 4s 279us/step - loss: 0.1562 - acc: 0.9512 - precision_3: 0.9478 - recall_3: 0.6217 - auc_3: 0.9820 - val_loss: 0.1970 - val_acc: 0.9411 - val_precision_3: 0.9550 - val_recall_3: 0.5925 - val_auc_3: 0.9806\n",
      "\n",
      "Epoch 00013: val_acc improved from 0.94031 to 0.94114, saving model to keras_weights.hdf5\n",
      "Epoch 14/15\n",
      "14337/14337 [==============================] - 4s 280us/step - loss: 0.1476 - acc: 0.9550 - precision_3: 0.9528 - recall_3: 0.6055 - auc_3: 0.9819 - val_loss: 0.1963 - val_acc: 0.9434 - val_precision_3: 0.9552 - val_recall_3: 0.5704 - val_auc_3: 0.9795\n",
      "\n",
      "Epoch 00014: val_acc improved from 0.94114 to 0.94338, saving model to keras_weights.hdf5\n",
      "Epoch 15/15\n",
      "14337/14337 [==============================] - 4s 284us/step - loss: 0.1436 - acc: 0.9541 - precision_3: 0.9532 - recall_3: 0.5994 - auc_3: 0.9824 - val_loss: 0.1966 - val_acc: 0.9409 - val_precision_3: 0.9560 - val_recall_3: 0.5763 - val_auc_3: 0.9798\n",
      "\n",
      "Epoch 00015: val_acc did not improve from 0.94338\n"
     ]
    }
   ],
   "source": [
    "early_stopping = EarlyStopping(monitor='val_loss',min_delta=0, patience=20, verbose=0, mode='auto')\n",
    "checkpointer = ModelCheckpoint(filepath='keras_weights.hdf5', monitor='val_acc', verbose=1, save_best_only=True, mode='max')\n",
    "\n",
    "history = CNNmodel.fit(X_train, y_train, batch_size=128, epochs=15, verbose=1, validation_split=0.2 , callbacks=[early_stopping, checkpointer])\n"
   ]
  },
  {
   "cell_type": "code",
   "execution_count": 97,
   "metadata": {},
   "outputs": [
    {
     "name": "stdout",
     "output_type": "stream",
     "text": [
      "['loss', 'acc', 'precision_8', 'recall_8', 'auc_8']\n"
     ]
    }
   ],
   "source": [
    "print(CNNmodel.metrics_names)"
   ]
  },
  {
   "cell_type": "code",
   "execution_count": 128,
   "metadata": {},
   "outputs": [
    {
     "name": "stdout",
     "output_type": "stream",
     "text": [
      "7681/7681 [==============================] - 1s 110us/step\n",
      "loss score: 0.19945339861538955\n",
      "Accuracy score: 0.9398515820503235\n",
      "precision score: 0.9485095143318176\n",
      "recall score: 0.5923708081245422\n",
      "AUC with curve ROC score: 0.9810656309127808\n"
     ]
    }
   ],
   "source": [
    "score = CNNmodel.evaluate(X_test, y_test, verbose=1)\n",
    "print(\"loss score:\", score[0])\n",
    "print(\"Accuracy score:\", score[1])\n",
    "print(\"precision score:\", score[2])\n",
    "print(\"recall score:\", score[3])\n",
    "print(\"AUC with curve ROC score:\", score[4])"
   ]
  },
  {
   "cell_type": "code",
   "execution_count": 129,
   "metadata": {},
   "outputs": [
    {
     "data": {
      "image/png": "[encoded data removed]",
      "text/plain": [
       "<Figure size 432x288 with 1 Axes>"
      ]
     },
     "metadata": {
      "needs_background": "light"
     },
     "output_type": "display_data"
    },
    {
     "data": {
      "image/png": "[encoded data removed]",
      "text/plain": [
       "<Figure size 432x288 with 1 Axes>"
      ]
     },
     "metadata": {
      "needs_background": "light"
     },
     "output_type": "display_data"
    }
   ],
   "source": [
    "plt.plot(history.history['acc'])\n",
    "plt.plot(history.history['val_acc'])\n",
    "\n",
    "plt.title('model accuracy')\n",
    "plt.ylabel('accuracy')\n",
    "plt.xlabel('epoch')\n",
    "plt.legend(['train','test'], loc = 'upper left')\n",
    "plt.show()\n",
    "\n",
    "plt.plot(history.history['loss'])\n",
    "plt.plot(history.history['val_loss'])\n",
    "\n",
    "plt.title('model loss')\n",
    "plt.ylabel('loss')\n",
    "plt.xlabel('epoch')\n",
    "plt.legend(['train','test'], loc = 'upper left')\n",
    "plt.show()\n"
   ]
  },
  {
   "cell_type": "markdown",
   "metadata": {},
   "source": [
    "### - Evaluate CNN Model with Kfold Cross Validation"
   ]
  },
  {
   "cell_type": "code",
   "execution_count": 54,
   "metadata": {},
   "outputs": [],
   "source": [
    "def create_model(): \n",
    "    model4 = Sequential()\n",
    "    embedding_layer = Embedding(vocab_size, 100, weights=[embedding_matrix], input_length=maxlen , trainable=False)\n",
    "    model4.add(embedding_layer)\n",
    "    model4.add(Conv1D(64, 5, activation='relu'))\n",
    "    model4.add(GlobalMaxPooling1D())\n",
    "    model4.add(Dropout(0.2))\n",
    "    model4.add(Dense(6, activation='softplus'))\n",
    "    model4.compile(optimizer='Adamax', loss='categorical_crossentropy', metrics=['acc',keras.metrics.Precision(),\n",
    "                                                                     keras.metrics.Recall(),keras.metrics.AUC(curve=\"ROC\")])\n",
    "    return model4"
   ]
  },
  {
   "cell_type": "code",
   "execution_count": 55,
   "metadata": {},
   "outputs": [],
   "source": [
    "from keras.wrappers.scikit_learn import KerasClassifier\n",
    "from sklearn.model_selection import StratifiedKFold\n",
    "from sklearn.model_selection import cross_val_score\n",
    "from sklearn.model_selection import KFold\n",
    "from sklearn.utils.multiclass import type_of_target"
   ]
  },
  {
   "cell_type": "code",
   "execution_count": 59,
   "metadata": {},
   "outputs": [
    {
     "data": {
      "text/plain": [
       "'multilabel-indicator'"
      ]
     },
     "execution_count": 59,
     "metadata": {},
     "output_type": "execute_result"
    }
   ],
   "source": [
    "type_of_target(y)"
   ]
  },
  {
   "cell_type": "code",
   "execution_count": 58,
   "metadata": {},
   "outputs": [
    {
     "data": {
      "text/plain": [
       "'multilabel-indicator'"
      ]
     },
     "execution_count": 58,
     "metadata": {},
     "output_type": "execute_result"
    }
   ],
   "source": [
    "type_of_target(y_train)"
   ]
  },
  {
   "cell_type": "code",
   "execution_count": 60,
   "metadata": {},
   "outputs": [
    {
     "name": "stdout",
     "output_type": "stream",
     "text": [
      "WARNING:tensorflow:From C:\\Users\\marye\\anaconda3\\lib\\site-packages\\keras\\backend\\tensorflow_backend.py:3172: add_dispatch_support.<locals>.wrapper (from tensorflow.python.ops.array_ops) is deprecated and will be removed in a future version.\n",
      "Instructions for updating:\n",
      "Use tf.where in 2.0, which has the same broadcast rule as np.where\n",
      "WARNING:tensorflow:From C:\\Users\\marye\\anaconda3\\lib\\site-packages\\keras\\backend\\tensorflow_backend.py:422: The name tf.global_variables is deprecated. Please use tf.compat.v1.global_variables instead.\n",
      "\n",
      "Epoch 1/10\n",
      "11948/11948 [==============================] - 3s 218us/step - loss: 0.7386 - acc: 0.7762 - precision_1: 0.4180 - recall_1: 0.9386 - auc_1: 0.8509\n",
      "Epoch 2/10\n",
      "11948/11948 [==============================] - 2s 201us/step - loss: 0.4090 - acc: 0.8728 - precision_1: 0.7229 - recall_1: 0.9297 - auc_1: 0.9602\n",
      "Epoch 3/10\n",
      "11948/11948 [==============================] - 4s 295us/step - loss: 0.3158 - acc: 0.9068 - precision_1: 0.8093 - recall_1: 0.9110 - auc_1: 0.9741\n",
      "Epoch 4/10\n",
      "11948/11948 [==============================] - 4s 295us/step - loss: 0.2710 - acc: 0.9195 - precision_1: 0.8561 - recall_1: 0.8815 - auc_1: 0.9798\n",
      "Epoch 5/10\n",
      "11948/11948 [==============================] - 4s 297us/step - loss: 0.2424 - acc: 0.9271 - precision_1: 0.8922 - recall_1: 0.8613 - auc_1: 0.9825\n",
      "Epoch 6/10\n",
      "11948/11948 [==============================] - 3s 230us/step - loss: 0.2237 - acc: 0.9309 - precision_1: 0.9095 - recall_1: 0.8445 - auc_1: 0.9840\n",
      "Epoch 7/10\n",
      "11948/11948 [==============================] - 3s 231us/step - loss: 0.2043 - acc: 0.9352 - precision_1: 0.9197 - recall_1: 0.8308 - auc_1: 0.9850\n",
      "Epoch 8/10\n",
      "11948/11948 [==============================] - 4s 298us/step - loss: 0.1897 - acc: 0.9425 - precision_1: 0.9280 - recall_1: 0.8139 - auc_1: 0.9864\n",
      "Epoch 9/10\n",
      "11948/11948 [==============================] - 4s 295us/step - loss: 0.1803 - acc: 0.9432 - precision_1: 0.9390 - recall_1: 0.8014 - auc_1: 0.9869\n",
      "Epoch 10/10\n",
      "11948/11948 [==============================] - 4s 302us/step - loss: 0.1661 - acc: 0.9469 - precision_1: 0.9474 - recall_1: 0.7853 - auc_1: 0.9875\n",
      "5974/5974 [==============================] - 1s 92us/step\n",
      "Epoch 1/10\n",
      "11948/11948 [==============================] - 3s 211us/step - loss: 0.7474 - acc: 0.7755 - precision_2: 0.4764 - recall_2: 0.9056 - auc_2: 0.8815\n",
      "Epoch 2/10\n",
      "11948/11948 [==============================] - 4s 312us/step - loss: 0.4198 - acc: 0.8750 - precision_2: 0.7649 - recall_2: 0.8957 - auc_2: 0.9654\n",
      "Epoch 3/10\n",
      "11948/11948 [==============================] - 4s 304us/step - loss: 0.3303 - acc: 0.9027 - precision_2: 0.8221 - recall_2: 0.8647 - auc_2: 0.9743\n",
      "Epoch 4/10\n",
      "11948/11948 [==============================] - 4s 308us/step - loss: 0.2824 - acc: 0.9148 - precision_2: 0.8541 - recall_2: 0.8122 - auc_2: 0.97772s - loss: 0.2816 - acc:\n",
      "Epoch 5/10\n",
      "11948/11948 [==============================] - 3s 225us/step - loss: 0.2520 - acc: 0.9244 - precision_2: 0.8734 - recall_2: 0.7811 - auc_2: 0.9793\n",
      "Epoch 6/10\n",
      "11948/11948 [==============================] - 3s 217us/step - loss: 0.2308 - acc: 0.9293 - precision_2: 0.8926 - recall_2: 0.7500 - auc_2: 0.9799\n",
      "Epoch 7/10\n",
      "11948/11948 [==============================] - 4s 310us/step - loss: 0.2175 - acc: 0.9324 - precision_2: 0.9035 - recall_2: 0.7177 - auc_2: 0.9797\n",
      "Epoch 8/10\n",
      "11948/11948 [==============================] - 4s 302us/step - loss: 0.2025 - acc: 0.9371 - precision_2: 0.9182 - recall_2: 0.7037 - auc_2: 0.9798\n",
      "Epoch 9/10\n",
      "11948/11948 [==============================] - 4s 318us/step - loss: 0.1918 - acc: 0.9407 - precision_2: 0.9206 - recall_2: 0.6675 - auc_2: 0.97963s - loss:\n",
      "Epoch 10/10\n",
      "11948/11948 [==============================] - 2s 203us/step - loss: 0.1785 - acc: 0.9448 - precision_2: 0.9288 - recall_2: 0.6550 - auc_2: 0.9804\n",
      "5974/5974 [==============================] - 0s 75us/step\n",
      "Epoch 1/10\n",
      "11948/11948 [==============================] - 4s 331us/step - loss: 0.7533 - acc: 0.7773 - precision_3: 0.4711 - recall_3: 0.9059 - auc_3: 0.8808\n",
      "Epoch 2/10\n",
      "11948/11948 [==============================] - 4s 316us/step - loss: 0.4040 - acc: 0.8832 - precision_3: 0.7655 - recall_3: 0.8848 - auc_3: 0.9668\n",
      "Epoch 3/10\n",
      "11948/11948 [==============================] - 4s 312us/step - loss: 0.3182 - acc: 0.9084 - precision_3: 0.8261 - recall_3: 0.8387 - auc_3: 0.97342s - loss: 0.3297 - acc: 0.9077 - pr\n",
      "Epoch 4/10\n",
      "11948/11948 [==============================] - 2s 202us/step - loss: 0.2790 - acc: 0.9174 - precision_3: 0.8494 - recall_3: 0.7984 - auc_3: 0.9755\n",
      "Epoch 5/10\n",
      "11948/11948 [==============================] - 3s 272us/step - loss: 0.2504 - acc: 0.9256 - precision_3: 0.8665 - recall_3: 0.7701 - auc_3: 0.9773\n",
      "Epoch 6/10\n",
      "11948/11948 [==============================] - 4s 311us/step - loss: 0.2281 - acc: 0.9319 - precision_3: 0.8878 - recall_3: 0.7471 - auc_3: 0.9782\n",
      "Epoch 7/10\n",
      "11948/11948 [==============================] - 4s 327us/step - loss: 0.2146 - acc: 0.9352 - precision_3: 0.8998 - recall_3: 0.6973 - auc_3: 0.97662s - loss: 0.2049 - acc: 0.9381 \n",
      "Epoch 8/10\n",
      "11948/11948 [==============================] - 3s 254us/step - loss: 0.1983 - acc: 0.9404 - precision_3: 0.9130 - recall_3: 0.6703 - auc_3: 0.9767\n",
      "Epoch 9/10\n",
      "11948/11948 [==============================] - 3s 210us/step - loss: 0.1875 - acc: 0.9423 - precision_3: 0.9181 - recall_3: 0.6279 - auc_3: 0.9759\n",
      "Epoch 10/10\n",
      "11948/11948 [==============================] - 4s 312us/step - loss: 0.1789 - acc: 0.9445 - precision_3: 0.9247 - recall_3: 0.6070 - auc_3: 0.9752\n",
      "5974/5974 [==============================] - 1s 154us/step\n",
      "0.9364468256632487\n"
     ]
    }
   ],
   "source": [
    "seed = 7\n",
    "model4 = KerasClassifier(build_fn=create_model, epochs=10, batch_size=128, verbose=1)\n",
    "# evaluate using 3-fold cross validation\n",
    "kfold = KFold(n_splits=3, shuffle=True, random_state=seed)\n",
    "results = cross_val_score(model4,X_train,y_train, cv=kfold)\n",
    "print(results.mean())"
   ]
  },
  {
   "cell_type": "markdown",
   "metadata": {},
   "source": [
    "----------------------"
   ]
  },
  {
   "cell_type": "markdown",
   "metadata": {},
   "source": [
    "## 2. With a Recurrent Neural Network (LSTM)"
   ]
  },
  {
   "cell_type": "code",
   "execution_count": 83,
   "metadata": {},
   "outputs": [
    {
     "name": "stdout",
     "output_type": "stream",
     "text": [
      "Model: \"sequential_7\"\n",
      "_________________________________________________________________\n",
      "Layer (type)                 Output Shape              Param #   \n",
      "=================================================================\n",
      "embedding_7 (Embedding)      (None, 100, 100)          1166000   \n",
      "_________________________________________________________________\n",
      "lstm_9 (LSTM)                (None, 100, 50)           30200     \n",
      "_________________________________________________________________\n",
      "lstm_10 (LSTM)               (None, 100, 50)           20200     \n",
      "_________________________________________________________________\n",
      "lstm_11 (LSTM)               (None, 100, 50)           20200     \n",
      "_________________________________________________________________\n",
      "lstm_12 (LSTM)               (None, 50)                20200     \n",
      "_________________________________________________________________\n",
      "dropout_7 (Dropout)          (None, 50)                0         \n",
      "_________________________________________________________________\n",
      "dense_7 (Dense)              (None, 6)                 306       \n",
      "=================================================================\n",
      "Total params: 1,257,106\n",
      "Trainable params: 91,106\n",
      "Non-trainable params: 1,166,000\n",
      "_________________________________________________________________\n",
      "None\n"
     ]
    }
   ],
   "source": [
    "LstmModel = models.Sequential()\n",
    "embedding_layer = Embedding(vocab_size, 100, weights=[embedding_matrix], input_length=maxlen , trainable=False)\n",
    "LstmModel.add(embedding_layer)\n",
    "LstmModel.add(LSTM(units=50, return_sequences=True))\n",
    "LstmModel.add(LSTM(units=50 , return_sequences=True))\n",
    "LstmModel.add(LSTM(units=50 , return_sequences=True))\n",
    "LstmModel.add(LSTM(units=50))\n",
    "LstmModel.add(Dropout(0.25))\n",
    "\n",
    "LstmModel.add(Dense(6, activation='softplus'))\n",
    "LstmModel.compile(optimizer='Adamax', loss='categorical_crossentropy',  metrics=['acc',keras.metrics.Precision(),\n",
    "                                                                     keras.metrics.Recall(),keras.metrics.AUC(curve=\"ROC\")])\n",
    "print(LstmModel.summary())"
   ]
  },
  {
   "cell_type": "code",
   "execution_count": 84,
   "metadata": {},
   "outputs": [
    {
     "name": "stdout",
     "output_type": "stream",
     "text": [
      "Train on 14337 samples, validate on 3585 samples\n",
      "Epoch 1/15\n",
      "14337/14337 [==============================] - 73s 5ms/step - loss: 1.2068 - acc: 0.4963 - precision_6: 0.3775 - recall_6: 0.8809 - auc_6: 0.7408 - val_loss: 1.1424 - val_acc: 0.4976 - val_precision_6: 0.4382 - val_recall_6: 0.8764 - val_auc_6: 0.7326\n",
      "Epoch 2/15\n",
      "14337/14337 [==============================] - 64s 4ms/step - loss: 1.1657 - acc: 0.5043 - precision_6: 0.4275 - recall_6: 0.8701 - auc_6: 0.7288 - val_loss: 1.1369 - val_acc: 0.4976 - val_precision_6: 0.4382 - val_recall_6: 0.8764 - val_auc_6: 0.7306\n",
      "Epoch 3/15\n",
      "14337/14337 [==============================] - 51s 4ms/step - loss: 0.9095 - acc: 0.7203 - precision_6: 0.4722 - recall_6: 0.8652 - auc_6: 0.8189 - val_loss: 0.7333 - val_acc: 0.8201 - val_precision_6: 0.8179 - val_recall_6: 0.8218 - val_auc_6: 0.9074\n",
      "Epoch 4/15\n",
      "14337/14337 [==============================] - 50s 4ms/step - loss: 0.6969 - acc: 0.8213 - precision_6: 0.6174 - recall_6: 0.8548 - auc_6: 0.9154 - val_loss: 0.6330 - val_acc: 0.8351 - val_precision_6: 0.5881 - val_recall_6: 0.8767 - val_auc_6: 0.9272\n",
      "Epoch 5/15\n",
      "14337/14337 [==============================] - 50s 4ms/step - loss: 0.6456 - acc: 0.8272 - precision_6: 0.5580 - recall_6: 0.8825 - auc_6: 0.9227 - val_loss: 0.5936 - val_acc: 0.8374 - val_precision_6: 0.5936 - val_recall_6: 0.9063 - val_auc_6: 0.9364\n",
      "Epoch 6/15\n",
      "14337/14337 [==============================] - 51s 4ms/step - loss: 0.6058 - acc: 0.8306 - precision_6: 0.5865 - recall_6: 0.8945 - auc_6: 0.9252 - val_loss: 0.5581 - val_acc: 0.8404 - val_precision_6: 0.6564 - val_recall_6: 0.8990 - val_auc_6: 0.9310\n",
      "Epoch 7/15\n",
      "14337/14337 [==============================] - 51s 4ms/step - loss: 0.5784 - acc: 0.8338 - precision_6: 0.5989 - recall_6: 0.9025 - auc_6: 0.9242 - val_loss: 0.5303 - val_acc: 0.8432 - val_precision_6: 0.6624 - val_recall_6: 0.9085 - val_auc_6: 0.9359\n",
      "Epoch 8/15\n",
      "14337/14337 [==============================] - 51s 4ms/step - loss: 0.5403 - acc: 0.8383 - precision_6: 0.6064 - recall_6: 0.9191 - auc_6: 0.9230 - val_loss: 0.4996 - val_acc: 0.8519 - val_precision_6: 0.6219 - val_recall_6: 0.9303 - val_auc_6: 0.9264\n",
      "Epoch 9/15\n",
      "14337/14337 [==============================] - 52s 4ms/step - loss: 0.5049 - acc: 0.8480 - precision_6: 0.6146 - recall_6: 0.9257 - auc_6: 0.9222 - val_loss: 0.4794 - val_acc: 0.8605 - val_precision_6: 0.7205 - val_recall_6: 0.9102 - val_auc_6: 0.9352\n",
      "Epoch 10/15\n",
      "14337/14337 [==============================] - 52s 4ms/step - loss: 0.4782 - acc: 0.8576 - precision_6: 0.6348 - recall_6: 0.9302 - auc_6: 0.9294 - val_loss: 0.4731 - val_acc: 0.8505 - val_precision_6: 0.6344 - val_recall_6: 0.9372 - val_auc_6: 0.9290\n",
      "Epoch 11/15\n",
      "14337/14337 [==============================] - 52s 4ms/step - loss: 0.4653 - acc: 0.8589 - precision_6: 0.6381 - recall_6: 0.9343 - auc_6: 0.9295 - val_loss: 0.4600 - val_acc: 0.8661 - val_precision_6: 0.7274 - val_recall_6: 0.9160 - val_auc_6: 0.9379\n",
      "Epoch 12/15\n",
      "14337/14337 [==============================] - 52s 4ms/step - loss: 0.5103 - acc: 0.8479 - precision_6: 0.6142 - recall_6: 0.9188 - auc_6: 0.9254 - val_loss: 0.4474 - val_acc: 0.8692 - val_precision_6: 0.6623 - val_recall_6: 0.9347 - val_auc_6: 0.9338\n",
      "Epoch 13/15\n",
      "14337/14337 [==============================] - 52s 4ms/step - loss: 0.4542 - acc: 0.8638 - precision_6: 0.6292 - recall_6: 0.9371 - auc_6: 0.9304 - val_loss: 0.4445 - val_acc: 0.8681 - val_precision_6: 0.6773 - val_recall_6: 0.9333 - val_auc_6: 0.9364\n",
      "Epoch 14/15\n",
      "14337/14337 [==============================] - 52s 4ms/step - loss: 0.4448 - acc: 0.8652 - precision_6: 0.6276 - recall_6: 0.9413 - auc_6: 0.9333 - val_loss: 0.4369 - val_acc: 0.8692 - val_precision_6: 0.6461 - val_recall_6: 0.9420 - val_auc_6: 0.9386\n",
      "Epoch 15/15\n",
      "14337/14337 [==============================] - 52s 4ms/step - loss: 0.4441 - acc: 0.8636 - precision_6: 0.6282 - recall_6: 0.9422 - auc_6: 0.9342 - val_loss: 0.4591 - val_acc: 0.8605 - val_precision_6: 0.6548 - val_recall_6: 0.9325 - val_auc_6: 0.9356\n"
     ]
    }
   ],
   "source": [
    "history = LstmModel.fit(X_train, y_train, batch_size=128, epochs=15, verbose=1, validation_split=0.2 )"
   ]
  },
  {
   "cell_type": "code",
   "execution_count": 85,
   "metadata": {},
   "outputs": [
    {
     "name": "stdout",
     "output_type": "stream",
     "text": [
      "7681/7681 [==============================] - 9s 1ms/step\n",
      "loss score: 0.4471049581900144\n",
      "Accuracy score: 0.8597838878631592\n",
      "precision score: 0.656358003616333\n",
      "recall score: 0.9394609928131104\n",
      "AUC with curve ROC score: 0.9362887740135193\n"
     ]
    }
   ],
   "source": [
    "score = LstmModel.evaluate(X_test, y_test, verbose=1)\n",
    "print(\"loss score:\", score[0])\n",
    "print(\"Accuracy score:\", score[1])\n",
    "print(\"precision score:\", score[2])\n",
    "print(\"recall score:\", score[3])\n",
    "print(\"AUC with curve ROC score:\", score[4])"
   ]
  },
  {
   "cell_type": "code",
   "execution_count": 86,
   "metadata": {},
   "outputs": [
    {
     "data": {
      "image/png": "[encoded data removed]",
      "text/plain": [
       "<Figure size 432x288 with 1 Axes>"
      ]
     },
     "metadata": {
      "needs_background": "light"
     },
     "output_type": "display_data"
    },
    {
     "data": {
      "image/png": "[encoded data removed]",
      "text/plain": [
       "<Figure size 432x288 with 1 Axes>"
      ]
     },
     "metadata": {
      "needs_background": "light"
     },
     "output_type": "display_data"
    }
   ],
   "source": [
    "plt.plot(history.history['acc'])\n",
    "plt.plot(history.history['val_acc'])\n",
    "\n",
    "plt.title('model accuracy')\n",
    "plt.ylabel('accuracy')\n",
    "plt.xlabel('epoch')\n",
    "plt.legend(['train','test'], loc='upper left')\n",
    "plt.show()\n",
    "\n",
    "plt.plot(history.history['loss'])\n",
    "plt.plot(history.history['val_loss'])\n",
    "\n",
    "plt.title('model loss')\n",
    "plt.ylabel('loss')\n",
    "plt.xlabel('epoch')\n",
    "plt.legend(['train','test'], loc='upper left')\n",
    "plt.show()"
   ]
  },
  {
   "cell_type": "markdown",
   "metadata": {},
   "source": [
    "### - Evaluate LSTM Model with Kfold Cross Validation"
   ]
  },
  {
   "cell_type": "code",
   "execution_count": 61,
   "metadata": {},
   "outputs": [],
   "source": [
    "def create_modelLSTM(): \n",
    "    modelLSTM = Sequential()\n",
    "    embedding_layer = Embedding(vocab_size, 100, weights=[embedding_matrix], input_length=maxlen , trainable=False)\n",
    "    modelLSTM.add(embedding_layer)\n",
    "    modelLSTM.add(LSTM(units=50, return_sequences=True))\n",
    "    modelLSTM.add(LSTM(units=50, return_sequences=True))\n",
    "    modelLSTM.add(LSTM(units=50, return_sequences=True))\n",
    "    modelLSTM.add(LSTM(units=50))\n",
    "    modelLSTM.add(Dropout(0.25))\n",
    "    \n",
    "\n",
    "    modelLSTM.add(Dense(6, activation='softplus'))\n",
    "    modelLSTM.compile(optimizer='Adamax', loss='categorical_crossentropy', metrics=['acc',keras.metrics.Precision(),\n",
    "                                                                     keras.metrics.Recall(),keras.metrics.AUC(curve=\"ROC\")])\n",
    "    return modelLSTM"
   ]
  },
  {
   "cell_type": "code",
   "execution_count": 62,
   "metadata": {},
   "outputs": [
    {
     "data": {
      "text/plain": [
       "'multilabel-indicator'"
      ]
     },
     "execution_count": 62,
     "metadata": {},
     "output_type": "execute_result"
    }
   ],
   "source": [
    "type_of_target(y) "
   ]
  },
  {
   "cell_type": "code",
   "execution_count": 63,
   "metadata": {},
   "outputs": [
    {
     "data": {
      "text/plain": [
       "'multilabel-indicator'"
      ]
     },
     "execution_count": 63,
     "metadata": {},
     "output_type": "execute_result"
    }
   ],
   "source": [
    "type_of_target(y_train)"
   ]
  },
  {
   "cell_type": "code",
   "execution_count": 65,
   "metadata": {},
   "outputs": [
    {
     "name": "stdout",
     "output_type": "stream",
     "text": [
      "Epoch 1/10\n",
      "11948/11948 [==============================] - 38s 3ms/step - loss: 1.2234 - acc: 0.4930 - precision_4: 0.3506 - recall_4: 0.8899 - auc_4: 0.7420\n",
      "Epoch 2/10\n",
      "11948/11948 [==============================] - 40s 3ms/step - loss: 1.1645 - acc: 0.4974 - precision_4: 0.4207 - recall_4: 0.8760 - auc_4: 0.7294\n",
      "Epoch 3/10\n",
      "11948/11948 [==============================] - 40s 3ms/step - loss: 1.1600 - acc: 0.4992 - precision_4: 0.4188 - recall_4: 0.8768 - auc_4: 0.7303\n",
      "Epoch 4/10\n",
      "11948/11948 [==============================] - 39s 3ms/step - loss: 1.1595 - acc: 0.5016 - precision_4: 0.4201 - recall_4: 0.8785 - auc_4: 0.7302\n",
      "Epoch 5/10\n",
      "11948/11948 [==============================] - 36s 3ms/step - loss: 1.1596 - acc: 0.5013 - precision_4: 0.4200 - recall_4: 0.8752 - auc_4: 0.7302\n",
      "Epoch 6/10\n",
      "11948/11948 [==============================] - 37s 3ms/step - loss: 1.1593 - acc: 0.5020 - precision_4: 0.4200 - recall_4: 0.8756 - auc_4: 0.7298\n",
      "Epoch 7/10\n",
      "11948/11948 [==============================] - 36s 3ms/step - loss: 1.1576 - acc: 0.5022 - precision_4: 0.4230 - recall_4: 0.8762 - auc_4: 0.7304\n",
      "Epoch 8/10\n",
      "11948/11948 [==============================] - 36s 3ms/step - loss: 1.1576 - acc: 0.5021 - precision_4: 0.4202 - recall_4: 0.8761 - auc_4: 0.7303\n",
      "Epoch 9/10\n",
      "11948/11948 [==============================] - 37s 3ms/step - loss: 1.1570 - acc: 0.5022 - precision_4: 0.4275 - recall_4: 0.8735 - auc_4: 0.7302\n",
      "Epoch 10/10\n",
      "11948/11948 [==============================] - 36s 3ms/step - loss: 1.1574 - acc: 0.5022 - precision_4: 0.4230 - recall_4: 0.8765 - auc_4: 0.7299\n",
      "5974/5974 [==============================] - 4s 695us/step\n",
      "Epoch 1/10\n",
      "11948/11948 [==============================] - 38s 3ms/step - loss: 1.2311 - acc: 0.4942 - precision_5: 0.3628 - recall_5: 0.8810 - auc_5: 0.7420\n",
      "Epoch 2/10\n",
      "11948/11948 [==============================] - 36s 3ms/step - loss: 1.1734 - acc: 0.5041 - precision_5: 0.4270 - recall_5: 0.8695 - auc_5: 0.7276\n",
      "Epoch 3/10\n",
      "11948/11948 [==============================] - 35s 3ms/step - loss: 1.1695 - acc: 0.5042 - precision_5: 0.4289 - recall_5: 0.8690 - auc_5: 0.7282\n",
      "Epoch 4/10\n",
      "11948/11948 [==============================] - 35s 3ms/step - loss: 0.8801 - acc: 0.7529 - precision_5: 0.4529 - recall_5: 0.8758 - auc_5: 0.8410\n",
      "Epoch 5/10\n",
      "11948/11948 [==============================] - 35s 3ms/step - loss: 0.7266 - acc: 0.8163 - precision_5: 0.5103 - recall_5: 0.8792 - auc_5: 0.9031\n",
      "Epoch 6/10\n",
      "11948/11948 [==============================] - 35s 3ms/step - loss: 0.6530 - acc: 0.8224 - precision_5: 0.5231 - recall_5: 0.8888 - auc_5: 0.9228\n",
      "Epoch 7/10\n",
      "11948/11948 [==============================] - 37s 3ms/step - loss: 0.5998 - acc: 0.8226 - precision_5: 0.5186 - recall_5: 0.9115 - auc_5: 0.9289\n",
      "Epoch 8/10\n",
      "11948/11948 [==============================] - 35s 3ms/step - loss: 0.5725 - acc: 0.8300 - precision_5: 0.5130 - recall_5: 0.9255 - auc_5: 0.9279\n",
      "Epoch 9/10\n",
      "11948/11948 [==============================] - 104s 9ms/step - loss: 0.5504 - acc: 0.8372 - precision_5: 0.5147 - recall_5: 0.9304 - auc_5: 0.9284\n",
      "Epoch 10/10\n",
      "11948/11948 [==============================] - 39s 3ms/step - loss: 0.5293 - acc: 0.8438 - precision_5: 0.5216 - recall_5: 0.9351 - auc_5: 0.9297\n",
      "5974/5974 [==============================] - 5s 845us/step\n",
      "Epoch 1/10\n",
      "11948/11948 [==============================] - 41s 3ms/step - loss: 1.2093 - acc: 0.4962 - precision_6: 0.3630 - recall_6: 0.8883 - auc_6: 0.7415\n",
      "Epoch 2/10\n",
      "11948/11948 [==============================] - 39s 3ms/step - loss: 1.1625 - acc: 0.5022 - precision_6: 0.4238 - recall_6: 0.8740 - auc_6: 0.7297\n",
      "Epoch 3/10\n",
      "11948/11948 [==============================] - 41s 3ms/step - loss: 1.1604 - acc: 0.5021 - precision_6: 0.4242 - recall_6: 0.8742 - auc_6: 0.7298\n",
      "Epoch 4/10\n",
      "11948/11948 [==============================] - 40s 3ms/step - loss: 0.9567 - acc: 0.6942 - precision_6: 0.4472 - recall_6: 0.8709 - auc_6: 0.7985\n",
      "Epoch 5/10\n",
      "11948/11948 [==============================] - 46s 4ms/step - loss: 0.7188 - acc: 0.8120 - precision_6: 0.6376 - recall_6: 0.8457 - auc_6: 0.9084\n",
      "Epoch 6/10\n",
      "11948/11948 [==============================] - 46s 4ms/step - loss: 0.6269 - acc: 0.8256 - precision_6: 0.6063 - recall_6: 0.8789 - auc_6: 0.9310\n",
      "Epoch 7/10\n",
      "11948/11948 [==============================] - 41s 3ms/step - loss: 0.5737 - acc: 0.8409 - precision_6: 0.5957 - recall_6: 0.8936 - auc_6: 0.9367\n",
      "Epoch 8/10\n",
      "11948/11948 [==============================] - 42s 3ms/step - loss: 0.5413 - acc: 0.8504 - precision_6: 0.5819 - recall_6: 0.9101 - auc_6: 0.9377\n",
      "Epoch 9/10\n",
      "11948/11948 [==============================] - 43s 4ms/step - loss: 0.5120 - acc: 0.8555 - precision_6: 0.5875 - recall_6: 0.9227 - auc_6: 0.9412\n",
      "Epoch 10/10\n",
      "11948/11948 [==============================] - 42s 4ms/step - loss: 0.5155 - acc: 0.8554 - precision_6: 0.5750 - recall_6: 0.9234 - auc_6: 0.9378\n",
      "5974/5974 [==============================] - 5s 914us/step\n",
      "0.738533635934194\n"
     ]
    }
   ],
   "source": [
    "seed = 7\n",
    "modelLSTM = KerasClassifier(build_fn=create_modelLSTM, epochs=10, batch_size=128, verbose=1)\n",
    "# evaluate using 3-fold cross validation\n",
    "kfold = KFold(n_splits=3, shuffle=True, random_state=seed)\n",
    "results = cross_val_score(modelLSTM,X_train,y_train, cv=kfold)\n",
    "print(results.mean())"
   ]
  },
  {
   "cell_type": "markdown",
   "metadata": {},
   "source": [
    "## 3. With a Bidirectional LSTM"
   ]
  },
  {
   "cell_type": "code",
   "execution_count": 59,
   "metadata": {},
   "outputs": [
    {
     "name": "stdout",
     "output_type": "stream",
     "text": [
      "Model: \"sequential_2\"\n",
      "_________________________________________________________________\n",
      "Layer (type)                 Output Shape              Param #   \n",
      "=================================================================\n",
      "embedding_2 (Embedding)      (None, 100, 100)          1166000   \n",
      "_________________________________________________________________\n",
      "bidirectional_5 (Bidirection (None, 100, 100)          60400     \n",
      "_________________________________________________________________\n",
      "bidirectional_6 (Bidirection (None, 100, 100)          60400     \n",
      "_________________________________________________________________\n",
      "bidirectional_7 (Bidirection (None, 100, 100)          60400     \n",
      "_________________________________________________________________\n",
      "bidirectional_8 (Bidirection (None, 100)               60400     \n",
      "_________________________________________________________________\n",
      "dropout_2 (Dropout)          (None, 100)               0         \n",
      "_________________________________________________________________\n",
      "dense_2 (Dense)              (None, 6)                 606       \n",
      "=================================================================\n",
      "Total params: 1,408,206\n",
      "Trainable params: 242,206\n",
      "Non-trainable params: 1,166,000\n",
      "_________________________________________________________________\n",
      "None\n"
     ]
    }
   ],
   "source": [
    "BLSTMmodel = models.Sequential()\n",
    "embedding_layer = Embedding(vocab_size, 100, weights=[embedding_matrix], input_length=maxlen , trainable=False)\n",
    "BLSTMmodel.add(embedding_layer)\n",
    "BLSTMmodel.add(Bidirectional(LSTM(units=50 , return_sequences=True)))\n",
    "BLSTMmodel.add(Bidirectional(LSTM(units=50 , return_sequences=True)))\n",
    "BLSTMmodel.add(Bidirectional(LSTM(units=50 , return_sequences=True)))\n",
    "BLSTMmodel.add(Bidirectional(LSTM(units=50)))\n",
    "BLSTMmodel.add(Dropout(0.25))\n",
    "\n",
    "BLSTMmodel.add(Dense(6, activation='softplus'))\n",
    "BLSTMmodel.compile(optimizer='Adadelta', loss='categorical_crossentropy',  metrics=['acc',keras.metrics.Precision(),\n",
    "                                                                     keras.metrics.Recall(),keras.metrics.AUC(curve=\"ROC\")])\n",
    "print(BLSTMmodel.summary())"
   ]
  },
  {
   "cell_type": "code",
   "execution_count": 60,
   "metadata": {},
   "outputs": [
    {
     "name": "stdout",
     "output_type": "stream",
     "text": [
      "Train on 14337 samples, validate on 3585 samples\n",
      "Epoch 1/15\n",
      "14337/14337 [==============================] - 333s 23ms/step - loss: 0.8326 - acc: 0.7171 - precision_2: 0.5072 - recall_2: 0.8707 - auc_2: 0.8737 - val_loss: 0.5433 - val_acc: 0.8318 - val_precision_2: 0.8040 - val_recall_2: 0.8510 - val_auc_2: 0.9516\n",
      "Epoch 2/15\n",
      "14337/14337 [==============================] - 206s 14ms/step - loss: 0.4368 - acc: 0.8597 - precision_2: 0.8018 - recall_2: 0.8982 - auc_2: 0.9642 - val_loss: 0.3577 - val_acc: 0.8901 - val_precision_2: 0.8498 - val_recall_2: 0.9199 - val_auc_2: 0.9714\n",
      "Epoch 3/15\n",
      "14337/14337 [==============================] - 152s 11ms/step - loss: 0.3443 - acc: 0.8879 - precision_2: 0.8501 - recall_2: 0.9116 - auc_2: 0.9740 - val_loss: 0.3041 - val_acc: 0.9160 - val_precision_2: 0.8789 - val_recall_2: 0.9291 - val_auc_2: 0.9777\n",
      "Epoch 4/15\n",
      "14337/14337 [==============================] - 149s 10ms/step - loss: 0.2897 - acc: 0.9086 - precision_2: 0.8902 - recall_2: 0.9086 - auc_2: 0.9806 - val_loss: 0.4741 - val_acc: 0.8488 - val_precision_2: 0.8528 - val_recall_2: 0.8014 - val_auc_2: 0.9669\n",
      "Epoch 5/15\n",
      "14337/14337 [==============================] - 151s 11ms/step - loss: 0.2565 - acc: 0.9237 - precision_2: 0.9292 - recall_2: 0.8755 - auc_2: 0.9866 - val_loss: 0.2499 - val_acc: 0.9264 - val_precision_2: 0.9686 - val_recall_2: 0.8335 - val_auc_2: 0.9891\n",
      "Epoch 6/15\n",
      "14337/14337 [==============================] - 152s 11ms/step - loss: 0.2281 - acc: 0.9298 - precision_2: 0.9624 - recall_2: 0.8507 - auc_2: 0.9898 - val_loss: 0.2435 - val_acc: 0.9294 - val_precision_2: 0.9717 - val_recall_2: 0.8318 - val_auc_2: 0.9893\n",
      "Epoch 7/15\n",
      "14337/14337 [==============================] - 151s 11ms/step - loss: 0.2073 - acc: 0.9369 - precision_2: 0.9707 - recall_2: 0.8470 - auc_2: 0.9910 - val_loss: 0.2180 - val_acc: 0.9375 - val_precision_2: 0.9705 - val_recall_2: 0.8628 - val_auc_2: 0.9901\n",
      "Epoch 8/15\n",
      "14337/14337 [==============================] - 151s 11ms/step - loss: 0.1992 - acc: 0.9388 - precision_2: 0.9739 - recall_2: 0.8460 - auc_2: 0.9916 - val_loss: 0.2166 - val_acc: 0.9397 - val_precision_2: 0.9682 - val_recall_2: 0.8762 - val_auc_2: 0.9901\n",
      "Epoch 9/15\n",
      "14337/14337 [==============================] - 151s 11ms/step - loss: 0.1845 - acc: 0.9427 - precision_2: 0.9777 - recall_2: 0.8482 - auc_2: 0.9926 - val_loss: 0.2143 - val_acc: 0.9370 - val_precision_2: 0.9760 - val_recall_2: 0.8522 - val_auc_2: 0.9915\n",
      "Epoch 10/15\n",
      "14337/14337 [==============================] - 197s 14ms/step - loss: 0.1740 - acc: 0.9466 - precision_2: 0.9804 - recall_2: 0.8498 - auc_2: 0.9929 - val_loss: 0.2620 - val_acc: 0.9358 - val_precision_2: 0.9585 - val_recall_2: 0.8957 - val_auc_2: 0.9848\n",
      "Epoch 11/15\n",
      "14337/14337 [==============================] - 148s 10ms/step - loss: 0.1697 - acc: 0.9475 - precision_2: 0.9798 - recall_2: 0.8566 - auc_2: 0.9929 - val_loss: 0.2090 - val_acc: 0.9420 - val_precision_2: 0.9784 - val_recall_2: 0.8597 - val_auc_2: 0.9896\n",
      "Epoch 12/15\n",
      "14337/14337 [==============================] - 147s 10ms/step - loss: 0.1580 - acc: 0.9511 - precision_2: 0.9850 - recall_2: 0.8454 - auc_2: 0.9935 - val_loss: 0.2100 - val_acc: 0.9409 - val_precision_2: 0.9783 - val_recall_2: 0.8561 - val_auc_2: 0.9899\n",
      "Epoch 13/15\n",
      "14337/14337 [==============================] - 147s 10ms/step - loss: 0.1571 - acc: 0.9510 - precision_2: 0.9844 - recall_2: 0.8557 - auc_2: 0.9936 - val_loss: 0.2057 - val_acc: 0.9370 - val_precision_2: 0.9786 - val_recall_2: 0.8282 - val_auc_2: 0.9917\n",
      "Epoch 14/15\n",
      "14337/14337 [==============================] - 150s 10ms/step - loss: 0.1409 - acc: 0.9575 - precision_2: 0.9870 - recall_2: 0.8611 - auc_2: 0.9941 - val_loss: 0.2029 - val_acc: 0.9406 - val_precision_2: 0.9807 - val_recall_2: 0.8508 - val_auc_2: 0.9904\n",
      "Epoch 15/15\n",
      "14337/14337 [==============================] - 148s 10ms/step - loss: 0.1386 - acc: 0.9577 - precision_2: 0.9881 - recall_2: 0.8540 - auc_2: 0.9944 - val_loss: 0.2060 - val_acc: 0.9353 - val_precision_2: 0.9816 - val_recall_2: 0.8324 - val_auc_2: 0.9900\n"
     ]
    }
   ],
   "source": [
    "history = BLSTMmodel.fit(X_train, y_train, batch_size=128, epochs=15, verbose=1, validation_split=0.2 )"
   ]
  },
  {
   "cell_type": "code",
   "execution_count": 61,
   "metadata": {},
   "outputs": [
    {
     "name": "stdout",
     "output_type": "stream",
     "text": [
      "7681/7681 [==============================] - 14s 2ms/step\n",
      "loss score: 0.20461143667462525\n",
      "Accuracy score: 0.9373779296875\n",
      "precision score: 0.9801508188247681\n",
      "recall score: 0.8293191194534302\n",
      "AUC with curve ROC score: 0.9908621907234192\n"
     ]
    }
   ],
   "source": [
    "score = BLSTMmodel.evaluate(X_test, y_test, verbose=1)\n",
    "print(\"loss score:\", score[0])\n",
    "print(\"Accuracy score:\", score[1])\n",
    "print(\"precision score:\", score[2])\n",
    "print(\"recall score:\", score[3])\n",
    "print(\"AUC with curve ROC score:\", score[4])"
   ]
  },
  {
   "cell_type": "code",
   "execution_count": 62,
   "metadata": {},
   "outputs": [
    {
     "data": {
      "image/png": "[encoded data removed]",
      "text/plain": [
       "<Figure size 432x288 with 1 Axes>"
      ]
     },
     "metadata": {
      "needs_background": "light"
     },
     "output_type": "display_data"
    },
    {
     "data": {
      "image/png": "[encoded data removed]",
      "text/plain": [
       "<Figure size 432x288 with 1 Axes>"
      ]
     },
     "metadata": {
      "needs_background": "light"
     },
     "output_type": "display_data"
    }
   ],
   "source": [
    "plt.plot(history.history['acc'])\n",
    "plt.plot(history.history['val_acc'])\n",
    "\n",
    "plt.title('model accuracy')\n",
    "plt.ylabel('accuracy')\n",
    "plt.xlabel('epoch')\n",
    "plt.legend(['train','test'], loc='upper left')\n",
    "plt.show()\n",
    "\n",
    "plt.plot(history.history['loss'])\n",
    "plt.plot(history.history['val_loss'])\n",
    "\n",
    "plt.title('model loss')\n",
    "plt.ylabel('loss')\n",
    "plt.xlabel('epoch')\n",
    "plt.legend(['train','test'], loc='upper left')\n",
    "plt.show()"
   ]
  },
  {
   "cell_type": "markdown",
   "metadata": {},
   "source": [
    "### - Evaluate BiLSTM Model Kfold with Cross Validation"
   ]
  },
  {
   "cell_type": "code",
   "execution_count": 66,
   "metadata": {},
   "outputs": [],
   "source": [
    "def create_modelBLSTM(): \n",
    "    modelBLSTM = Sequential()\n",
    "    embedding_layer = Embedding(vocab_size, 100, weights=[embedding_matrix], input_length=maxlen , trainable=False)\n",
    "    modelBLSTM.add(embedding_layer)\n",
    "    modelBLSTM.add(Bidirectional(LSTM(units=50, return_sequences=True)))\n",
    "    modelBLSTM.add(Bidirectional(LSTM(units=50, return_sequences=True)))\n",
    "    modelBLSTM.add(Bidirectional(LSTM(units=50, return_sequences=True)))\n",
    "    modelBLSTM.add(Bidirectional(LSTM(units=50)))\n",
    "    modelBLSTM.add(Dropout(0.25))\n",
    "    \n",
    "\n",
    "    modelBLSTM.add(Dense(6, activation='softplus'))\n",
    "    modelBLSTM.compile(optimizer='Adadelta', loss='categorical_crossentropy', metrics=['acc',keras.metrics.Precision(),\n",
    "                                                                     keras.metrics.Recall(),keras.metrics.AUC(curve=\"ROC\")])\n",
    "    return modelBLSTM"
   ]
  },
  {
   "cell_type": "code",
   "execution_count": 67,
   "metadata": {},
   "outputs": [
    {
     "name": "stdout",
     "output_type": "stream",
     "text": [
      "Epoch 1/10\n",
      "11948/11948 [==============================] - 136s 11ms/step - loss: 0.9021 - acc: 0.6861 - precision_7: 0.4593 - recall_7: 0.8807 - auc_7: 0.8518\n",
      "Epoch 2/10\n",
      "11948/11948 [==============================] - 138s 12ms/step - loss: 0.4525 - acc: 0.8561 - precision_7: 0.7924 - recall_7: 0.9007 - auc_7: 0.9592\n",
      "Epoch 3/10\n",
      "11948/11948 [==============================] - 138s 12ms/step - loss: 0.3542 - acc: 0.8878 - precision_7: 0.8400 - recall_7: 0.9156 - auc_7: 0.9711\n",
      "Epoch 4/10\n",
      "11948/11948 [==============================] - 140s 12ms/step - loss: 0.2929 - acc: 0.9164 - precision_7: 0.9000 - recall_7: 0.9095 - auc_7: 0.9824\n",
      "Epoch 5/10\n",
      "11948/11948 [==============================] - 249s 21ms/step - loss: 0.2585 - acc: 0.9254 - precision_7: 0.9429 - recall_7: 0.8822 - auc_7: 0.9871\n",
      "Epoch 6/10\n",
      "11948/11948 [==============================] - 139s 12ms/step - loss: 0.2373 - acc: 0.9310 - precision_7: 0.9621 - recall_7: 0.8694 - auc_7: 0.9887\n",
      "Epoch 7/10\n",
      "11948/11948 [==============================] - 141s 12ms/step - loss: 0.2201 - acc: 0.9363 - precision_7: 0.9687 - recall_7: 0.8620 - auc_7: 0.9901\n",
      "Epoch 8/10\n",
      "11948/11948 [==============================] - 141s 12ms/step - loss: 0.2071 - acc: 0.9391 - precision_7: 0.9733 - recall_7: 0.8549 - auc_7: 0.9907\n",
      "Epoch 9/10\n",
      "11948/11948 [==============================] - 141s 12ms/step - loss: 0.1972 - acc: 0.9427 - precision_7: 0.9754 - recall_7: 0.8480 - auc_7: 0.9916\n",
      "Epoch 10/10\n",
      "11948/11948 [==============================] - 141s 12ms/step - loss: 0.1893 - acc: 0.9439 - precision_7: 0.9777 - recall_7: 0.8490 - auc_7: 0.9918\n",
      "5974/5974 [==============================] - 12s 2ms/step\n",
      "Epoch 1/10\n",
      "11948/11948 [==============================] - 162s 14ms/step - loss: 0.9082 - acc: 0.6862 - precision_8: 0.4572 - recall_8: 0.8738 - auc_8: 0.8524\n",
      "Epoch 2/10\n",
      "11948/11948 [==============================] - 156s 13ms/step - loss: 0.4829 - acc: 0.8461 - precision_8: 0.7289 - recall_8: 0.9053 - auc_8: 0.9523\n",
      "Epoch 3/10\n",
      "11948/11948 [==============================] - 150s 13ms/step - loss: 0.3766 - acc: 0.8694 - precision_8: 0.8032 - recall_8: 0.9231 - auc_8: 0.9632\n",
      "Epoch 4/10\n",
      "11948/11948 [==============================] - 145s 12ms/step - loss: 0.3194 - acc: 0.8948 - precision_8: 0.8547 - recall_8: 0.9215 - auc_8: 0.9737\n",
      "Epoch 5/10\n",
      "11948/11948 [==============================] - 152s 13ms/step - loss: 0.2908 - acc: 0.9049 - precision_8: 0.8856 - recall_8: 0.9107 - auc_8: 0.9784\n",
      "Epoch 6/10\n",
      "11948/11948 [==============================] - 158s 13ms/step - loss: 0.2641 - acc: 0.9177 - precision_8: 0.8997 - recall_8: 0.9037 - auc_8: 0.9825\n",
      "Epoch 7/10\n",
      "11948/11948 [==============================] - 154s 13ms/step - loss: 0.2331 - acc: 0.9311 - precision_8: 0.9403 - recall_8: 0.8826 - auc_8: 0.9888\n",
      "Epoch 8/10\n",
      "11948/11948 [==============================] - 152s 13ms/step - loss: 0.2150 - acc: 0.9351 - precision_8: 0.9624 - recall_8: 0.8736 - auc_8: 0.9905\n",
      "Epoch 9/10\n",
      "11948/11948 [==============================] - 142s 12ms/step - loss: 0.1995 - acc: 0.9407 - precision_8: 0.9696 - recall_8: 0.8652 - auc_8: 0.9914\n",
      "Epoch 10/10\n",
      "11948/11948 [==============================] - 142s 12ms/step - loss: 0.1916 - acc: 0.9428 - precision_8: 0.9728 - recall_8: 0.8665 - auc_8: 0.9917\n",
      "5974/5974 [==============================] - 16s 3ms/step\n",
      "Epoch 1/10\n",
      "11948/11948 [==============================] - 154s 13ms/step - loss: 0.8148 - acc: 0.7455 - precision_9: 0.5046 - recall_9: 0.8719 - auc_9: 0.8846\n",
      "Epoch 2/10\n",
      "11948/11948 [==============================] - 156s 13ms/step - loss: 0.4745 - acc: 0.8558 - precision_9: 0.7833 - recall_9: 0.8909 - auc_9: 0.9570\n",
      "Epoch 3/10\n",
      "11948/11948 [==============================] - 170s 14ms/step - loss: 0.3751 - acc: 0.8750 - precision_9: 0.8150 - recall_9: 0.9189 - auc_9: 0.9661\n",
      "Epoch 4/10\n",
      "11948/11948 [==============================] - 164s 14ms/step - loss: 0.3098 - acc: 0.9083 - precision_9: 0.8640 - recall_9: 0.9175 - auc_9: 0.9780\n",
      "Epoch 5/10\n",
      "11948/11948 [==============================] - 181s 15ms/step - loss: 0.2635 - acc: 0.9246 - precision_9: 0.9214 - recall_9: 0.9015 - auc_9: 0.9860\n",
      "Epoch 6/10\n",
      "11948/11948 [==============================] - 176s 15ms/step - loss: 0.2357 - acc: 0.9289 - precision_9: 0.9495 - recall_9: 0.8766 - auc_9: 0.9889\n",
      "Epoch 7/10\n",
      "11948/11948 [==============================] - 176s 15ms/step - loss: 0.2171 - acc: 0.9356 - precision_9: 0.9580 - recall_9: 0.8783 - auc_9: 0.9899\n",
      "Epoch 8/10\n",
      "11948/11948 [==============================] - 167s 14ms/step - loss: 0.2068 - acc: 0.9356 - precision_9: 0.9641 - recall_9: 0.8710 - auc_9: 0.9908\n",
      "Epoch 9/10\n",
      "11948/11948 [==============================] - 172s 14ms/step - loss: 0.1917 - acc: 0.9400 - precision_9: 0.9704 - recall_9: 0.8704 - auc_9: 0.9918\n",
      "Epoch 10/10\n",
      "11948/11948 [==============================] - 167s 14ms/step - loss: 0.1841 - acc: 0.9442 - precision_9: 0.9741 - recall_9: 0.8612 - auc_9: 0.9920\n",
      "5974/5974 [==============================] - 21s 4ms/step\n",
      "0.9364468256632487\n"
     ]
    }
   ],
   "source": [
    "seed = 7\n",
    "modelBLSTM = KerasClassifier(build_fn=create_modelBLSTM, epochs=10, batch_size=128, verbose=1)\n",
    "# evaluate using 3-fold cross validation\n",
    "kfold = KFold(n_splits=3, shuffle=True, random_state=seed)\n",
    "results = cross_val_score(modelBLSTM,X_train,y_train, cv=kfold)\n",
    "print(results.mean())"
   ]
  },
  {
   "cell_type": "markdown",
   "metadata": {},
   "source": [
    "# Evaluation"
   ]
  },
  {
   "cell_type": "markdown",
   "metadata": {},
   "source": [
    "|Critères d'évaluation (metrics) || cnn | lstm | bilstm  ||the model with highest score |\n",
    "| ------:|| -----------:| -----------:| -----------:|| -----------:|\n",
    "| __acc__   || 0.9398515820503235  |0.8597838878631592 | 0.9373779296875  ||CNN  |\n",
    "| ||| ||||\n",
    "| __precision__ || 0.9485095143318176 |0.656358003616333  |0.9801508188247681  ||BiLSTM |\n",
    "|| || ||||\n",
    "| __recall__   || 0.5923708081245422 | 0.9394609928131104  |0.8293191194534302 ||LSTM |\n",
    "| ||| ||||\n",
    "| __auc with curve 'ROC'__   || 0.9810656309127808 |0.9362887740135193  |0.9908621907234192  ||BiLSTM |\n",
    "| __KFOlds validation acc__   ||0.9364468256632487 |0.738533635934194  |0.9364468256632487  || CNN & BiLSTM |\n",
    "| __Run time__  ||+ | ++ |++++ || CNN  |\n",
    "\n",
    "\n",
    "\n"
   ]
  },
  {
   "cell_type": "markdown",
   "metadata": {},
   "source": [
    "so both CNN and BLSTM models have high scores but BLSTM have highest score then cnn in \n",
    "+ precision\n",
    "+ recall \n",
    "+ auc with curve 'ROC'"
   ]
  }
 ],
 "metadata": {
  "kernelspec": {
   "display_name": "Python 3",
   "language": "python",
   "name": "python3"
  },
  "language_info": {
   "codemirror_mode": {
    "name": "ipython",
    "version": 3
   },
   "file_extension": ".py",
   "mimetype": "text/x-python",
   "name": "python",
   "nbconvert_exporter": "python",
   "pygments_lexer": "ipython3",
   "version": "3.7.6"
  }
 },
 "nbformat": 4,
 "nbformat_minor": 4
}
